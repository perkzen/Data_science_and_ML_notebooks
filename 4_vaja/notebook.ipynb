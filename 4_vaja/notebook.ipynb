{
 "cells": [
  {
   "cell_type": "markdown",
   "source": [
    "# Imports"
   ],
   "metadata": {
    "collapsed": false
   }
  },
  {
   "cell_type": "code",
   "execution_count": 65,
   "metadata": {
    "collapsed": true
   },
   "outputs": [],
   "source": [
    "import numpy as np\n",
    "import pandas as pd\n",
    "import seaborn as sns\n",
    "from sklearn.preprocessing import LabelEncoder, StandardScaler\n",
    "from sklearn.ensemble import RandomForestClassifier\n",
    "from sklearn.model_selection import train_test_split, GridSearchCV\n",
    "from sklearn import metrics\n",
    "from scipy.stats import randint as sp_randint\n",
    "from sklearn.model_selection import RandomizedSearchCV\n",
    "\n",
    "df = pd.read_csv(\"./university_rank_no_nan.csv\", index_col=0, sep=\";\")"
   ]
  },
  {
   "cell_type": "markdown",
   "source": [],
   "metadata": {
    "collapsed": false
   }
  },
  {
   "cell_type": "markdown",
   "source": [
    "# Ustvarite nov stolpec Status. Vse univerzitete, ki imajo Rank:\n",
    "- manjši od 200, naj imajo status prestigious (prestižne),\n",
    "- večji od 200 in manjši od 300, naj imajo status reputable (ugledne),\n",
    "- večji od 300 in manjši od 430, naj imajo status average (povprečne),\n",
    "- večji od 430, naj imajo status badReputation (slab sloves)."
   ],
   "metadata": {
    "collapsed": false,
    "pycharm": {
     "name": "#%% md\n"
    }
   }
  },
  {
   "cell_type": "code",
   "execution_count": 66,
   "outputs": [
    {
     "name": "stdout",
     "output_type": "stream",
     "text": [
      "                                              Country  Number_students  \\\n",
      "University of Oxford                   United Kingdom           20.664   \n",
      "California Institute of Technology      United States            2.240   \n",
      "University of Cambridge                United Kingdom           18.978   \n",
      "Stanford University                     United States           16.135   \n",
      "Massachusetts Institute of Technology   United States           11.247   \n",
      "Princeton University                    United States            7.983   \n",
      "Harvard University                      United States           20.823   \n",
      "Yale University                         United States           12.402   \n",
      "University of Chicago                   United States           13.833   \n",
      "Imperial College London                United Kingdom           16.760   \n",
      "\n",
      "                                       Numb_students_per_Staff  Score_Result  \\\n",
      "University of Oxford                                      11.2          95.4   \n",
      "California Institute of Technology                         6.4          94.5   \n",
      "University of Cambridge                                   10.9          94.4   \n",
      "Stanford University                                        7.3          94.3   \n",
      "Massachusetts Institute of Technology                      8.6          93.6   \n",
      "Princeton University                                       8.1          93.2   \n",
      "Harvard University                                         9.2          93.0   \n",
      "Yale University                                            5.4          91.7   \n",
      "University of Chicago                                      5.7          90.2   \n",
      "Imperial College London                                   11.7          89.8   \n",
      "\n",
      "                                       Rank  Teaching  Research  Citations  \\\n",
      "University of Oxford                    1.0      90.5      99.6       98.4   \n",
      "California Institute of Technology      2.0      92.1      97.2       97.9   \n",
      "University of Cambridge                 3.0      91.4      98.7       95.8   \n",
      "Stanford University                     4.0      92.8      96.4       99.9   \n",
      "Massachusetts Institute of Technology   5.0      90.5      92.4       99.5   \n",
      "Princeton University                    6.0      90.3      96.3       98.8   \n",
      "Harvard University                      7.0      89.2      98.6       99.1   \n",
      "Yale University                         8.0      92.0      94.8       97.3   \n",
      "University of Chicago                   9.0      89.1      91.4       96.7   \n",
      "Imperial College London                10.0      84.5      87.6       97.0   \n",
      "\n",
      "                                       Industry_Income International_Outlook  \\\n",
      "University of Oxford                              65.5             excellent   \n",
      "California Institute of Technology                88.0             excellent   \n",
      "University of Cambridge                           59.3             excellent   \n",
      "Stanford University                               66.2             excellent   \n",
      "Massachusetts Institute of Technology             86.9             excellent   \n",
      "Princeton University                              58.6             excellent   \n",
      "Harvard University                                47.3             excellent   \n",
      "Yale University                                   52.4             excellent   \n",
      "University of Chicago                             52.7             excellent   \n",
      "Imperial College London                           69.9             excellent   \n",
      "\n",
      "                                       International_Students(%)  \\\n",
      "University of Oxford                                   41.000000   \n",
      "California Institute of Technology                     30.000000   \n",
      "University of Cambridge                                37.000000   \n",
      "Stanford University                                    11.086892   \n",
      "Massachusetts Institute of Technology                  34.000000   \n",
      "Princeton University                                   25.000000   \n",
      "Harvard University                                     24.000000   \n",
      "Yale University                                        20.000000   \n",
      "University of Chicago                                  28.000000   \n",
      "Imperial College London                                56.000000   \n",
      "\n",
      "                                       Percentage_Female(%)  \\\n",
      "University of Oxford                              46.000000   \n",
      "California Institute of Technology                47.583088   \n",
      "University of Cambridge                           47.000000   \n",
      "Stanford University                               43.000000   \n",
      "Massachusetts Institute of Technology             39.000000   \n",
      "Princeton University                              45.000000   \n",
      "Harvard University                                49.000000   \n",
      "Yale University                                   47.583088   \n",
      "University of Chicago                             46.000000   \n",
      "Imperial College London                           38.000000   \n",
      "\n",
      "                                       Percentage_Male(%)       Status  \n",
      "University of Oxford                            54.000000  prestigious  \n",
      "California Institute of Technology              66.000000  prestigious  \n",
      "University of Cambridge                         53.000000  prestigious  \n",
      "Stanford University                             57.000000  prestigious  \n",
      "Massachusetts Institute of Technology           61.000000  prestigious  \n",
      "Princeton University                            55.000000  prestigious  \n",
      "Harvard University                              51.000000  prestigious  \n",
      "Yale University                                 47.784514  prestigious  \n",
      "University of Chicago                           54.000000  prestigious  \n",
      "Imperial College London                         62.000000  prestigious  \n"
     ]
    }
   ],
   "source": [
    "prestigious = df[\"Rank\"] < 200\n",
    "reputable = (200 <= df[\"Rank\"]) & (df[\"Rank\"] <= 300)\n",
    "average = (300 < df[\"Rank\"]) & (df[\"Rank\"] <= 430)\n",
    "badReputation = 430 < df[\"Rank\"]\n",
    "\n",
    "df[\"Status\"] = np.nan\n",
    "df[\"Status\"] = df[\"Status\"].fillna(prestigious.map(({True: \"prestigious\"})))\n",
    "df[\"Status\"] = df[\"Status\"].fillna(reputable.map({True: \"reputable\"}))\n",
    "df[\"Status\"] = df[\"Status\"].fillna(average.map({True: \"average\"}))\n",
    "df[\"Status\"] = df[\"Status\"].fillna(badReputation.map({True: \"bad_reputation\"}))\n",
    "\n",
    "print(df.head(10))"
   ],
   "metadata": {
    "collapsed": false,
    "pycharm": {
     "name": "#%%\n"
    }
   }
  },
  {
   "cell_type": "markdown",
   "source": [
    "# Izrišite graf, ki bo prikazoval, koliko je univerz s posameznim statusom."
   ],
   "metadata": {
    "collapsed": false
   }
  },
  {
   "cell_type": "code",
   "execution_count": 67,
   "outputs": [
    {
     "name": "stdout",
     "output_type": "stream",
     "text": [
      "AxesSubplot(0.125,0.11;0.775x0.77)\n"
     ]
    },
    {
     "data": {
      "text/plain": "<Figure size 640x480 with 1 Axes>",
      "image/png": "[encoded data removed]"
     },
     "metadata": {},
     "output_type": "display_data"
    }
   ],
   "source": [
    "print(sns.countplot(x='Status', data=df))"
   ],
   "metadata": {
    "collapsed": false,
    "pycharm": {
     "name": "#%%\n"
    }
   }
  },
  {
   "cell_type": "markdown",
   "source": [
    "# Preverite kakšen status sta dobili slovenski univerzi."
   ],
   "metadata": {
    "collapsed": false,
    "pycharm": {
     "name": "#%% md\n"
    }
   }
  },
  {
   "cell_type": "code",
   "execution_count": 68,
   "outputs": [
    {
     "name": "stdout",
     "output_type": "stream",
     "text": [
      "University of Ljubljana    average\n",
      "University of Maribor      average\n",
      "Name: Status, dtype: object\n"
     ]
    }
   ],
   "source": [
    "slo_universities = df.loc[df['Country'].isin([\"Slovenia\"])]\n",
    "\n",
    "print(slo_universities[\"Status\"])"
   ],
   "metadata": {
    "collapsed": false,
    "pycharm": {
     "name": "#%%\n"
    }
   }
  },
  {
   "cell_type": "markdown",
   "source": [],
   "metadata": {
    "collapsed": false
   }
  },
  {
   "cell_type": "markdown",
   "source": [
    "# Klasifikacija\n",
    "\n",
    "### Prva izvedva:\n",
    "- Ustvarite kopijo df in jo poimenujte df1.\n",
    "- Kategorične (nominalne) podatke iz df1 pretvorite v številske s pomočjo LabelEncoder. Pazite da ne pretvorite tudi podatkov izhodnega razreda.\n",
    "- Številske podatke standardizirajte.\n",
    "- Uporabite klasifikacijski algoritem nad prilagojenimi podatki iz df1.\n",
    "- Izpišite točnost klasifikacije."
   ],
   "metadata": {
    "collapsed": false
   }
  },
  {
   "cell_type": "code",
   "execution_count": 69,
   "outputs": [
    {
     "name": "stdout",
     "output_type": "stream",
     "text": [
      "['Country', 'International_Outlook']\n",
      "                                       Country  Number_students  \\\n",
      "University of Oxford                        88        -0.115104   \n",
      "California Institute of Technology          89        -0.366056   \n",
      "University of Cambridge                     88        -0.138069   \n",
      "Stanford University                         89        -0.176793   \n",
      "Massachusetts Institute of Technology       89        -0.243372   \n",
      "\n",
      "                                       Numb_students_per_Staff  Score_Result  \\\n",
      "University of Oxford                                 -0.461506      3.577682   \n",
      "California Institute of Technology                   -0.746721      3.524553   \n",
      "University of Cambridge                              -0.479332      3.518650   \n",
      "Stanford University                                  -0.693243      3.512747   \n",
      "Massachusetts Institute of Technology                -0.615997      3.471424   \n",
      "\n",
      "                                           Rank  Teaching  Research  \\\n",
      "University of Oxford                  -2.230759  4.402488  4.313494   \n",
      "California Institute of Technology    -2.223662  4.515607  4.176592   \n",
      "University of Cambridge               -2.216564  4.466117  4.262156   \n",
      "Stanford University                   -2.209467  4.565096  4.130958   \n",
      "Massachusetts Institute of Technology -2.202369  4.402488  3.902788   \n",
      "\n",
      "                                       Citations  Industry_Income  \\\n",
      "University of Oxford                    1.813729         1.169357   \n",
      "California Institute of Technology      1.795695         2.552468   \n",
      "University of Cambridge                 1.719953         0.788233   \n",
      "Stanford University                     1.867831         1.212387   \n",
      "Massachusetts Institute of Technology   1.853403         2.484849   \n",
      "\n",
      "                                       International_Outlook  \\\n",
      "University of Oxford                                       1   \n",
      "California Institute of Technology                         1   \n",
      "University of Cambridge                                    1   \n",
      "Stanford University                                        1   \n",
      "Massachusetts Institute of Technology                      1   \n",
      "\n",
      "                                       International_Students(%)  \\\n",
      "University of Oxford                                    2.625712   \n",
      "California Institute of Technology                      1.660154   \n",
      "University of Cambridge                                 2.274600   \n",
      "Stanford University                                     0.000000   \n",
      "Massachusetts Institute of Technology                   2.011266   \n",
      "\n",
      "                                       Percentage_Female(%)  \\\n",
      "University of Oxford                              -0.100112   \n",
      "California Institute of Technology                 0.000000   \n",
      "University of Cambridge                           -0.036874   \n",
      "Stanford University                               -0.289827   \n",
      "Massachusetts Institute of Technology             -0.542781   \n",
      "\n",
      "                                       Percentage_Male(%)       Status  \n",
      "University of Oxford                             0.390898  prestigious  \n",
      "California Institute of Technology               1.145591  prestigious  \n",
      "University of Cambridge                          0.328007  prestigious  \n",
      "Stanford University                              0.579572  prestigious  \n",
      "Massachusetts Institute of Technology            0.831136  prestigious  \n"
     ]
    }
   ],
   "source": [
    "df_1 = df.copy(deep=True)\n",
    "\n",
    "numerical_columns = df_1.select_dtypes(float).columns.tolist()\n",
    "\n",
    "categorical_columns = df_1.select_dtypes(object).columns.tolist()\n",
    "categorical_columns.pop()\n",
    "print(categorical_columns)\n",
    "\n",
    "for col in categorical_columns:\n",
    "    df_1[col] = LabelEncoder().fit_transform(df_1[col])\n",
    "\n",
    "df_1[numerical_columns] = StandardScaler().fit_transform(df_1[numerical_columns])\n",
    "\n",
    "print(df_1.head())"
   ],
   "metadata": {
    "collapsed": false,
    "pycharm": {
     "name": "#%%\n"
    }
   }
  },
  {
   "cell_type": "code",
   "execution_count": 70,
   "outputs": [
    {
     "name": "stdout",
     "output_type": "stream",
     "text": [
      "Accuracy:  0.8911174785100286\n"
     ]
    }
   ],
   "source": [
    "df_1.drop('Rank', axis=1, inplace=True)\n",
    "df_1.drop('Score_Result', axis=1, inplace=True)\n",
    "\n",
    "X = df_1.drop('Status', axis=1)\n",
    "y = df_1[\"Status\"]\n",
    "\n",
    "x_train, x_test, y_train, y_test = train_test_split(X, y, test_size=0.25, random_state=123)\n",
    "model = RandomForestClassifier(n_estimators=60)\n",
    "model.fit(x_train, y_train)\n",
    "predictions = model.predict(x_test)\n",
    "print(\"Accuracy: \", metrics.accuracy_score(predictions, y_test))"
   ],
   "metadata": {
    "collapsed": false,
    "pycharm": {
     "name": "#%%\n"
    }
   }
  },
  {
   "cell_type": "markdown",
   "source": [
    "### Druga izvedva:\n",
    "- Ustvarite kopijo df in jo poimenujte df2.\n",
    "- Kategorične (nominalne) podatke iz df2 pretvorite v indikacijske parametre (dummy variable). Pazite da ne pretvorite tudi podatkov izhodnega razreda.\n",
    "- Številske podatke standardizirajte.\n",
    "- Uporabite klasifikacijski algoritem nad prilagojenimi podatki iz df2.\n",
    "- Izpišite točnost klasifikacije."
   ],
   "metadata": {
    "collapsed": false
   }
  },
  {
   "cell_type": "code",
   "execution_count": 71,
   "outputs": [
    {
     "name": "stdout",
     "output_type": "stream",
     "text": [
      "Accuracy:  0.8911174785100286\n"
     ]
    }
   ],
   "source": [
    "df_2 = df.copy(deep=True)\n",
    "categorical_columns = df_2.select_dtypes(object).columns.tolist()\n",
    "categorical_columns.pop()\n",
    "\n",
    "df_2 = pd.get_dummies(df_2, columns=categorical_columns)\n",
    "\n",
    "numerical_columns = df_2.select_dtypes(float).columns.tolist()\n",
    "df_2[numerical_columns] = StandardScaler().fit_transform(df_2[numerical_columns])\n",
    "\n",
    "df_2.drop('Rank', axis=1, inplace=True)\n",
    "df_2.drop('Score_Result', axis=1, inplace=True)\n",
    "\n",
    "X = df_2.drop('Status', axis=1)\n",
    "y = df_2[\"Status\"]\n",
    "\n",
    "x_train, x_test, y_train, y_test = train_test_split(X, y, test_size=0.25, random_state=123)\n",
    "model = RandomForestClassifier(n_estimators=60)\n",
    "model.fit(x_train, y_train)\n",
    "predictions = model.predict(x_test)\n",
    "print(\"Accuracy: \", metrics.accuracy_score(predictions, y_test))"
   ],
   "metadata": {
    "collapsed": false,
    "pycharm": {
     "name": "#%%\n"
    }
   }
  },
  {
   "cell_type": "markdown",
   "source": [
    "## Optimizacija nastavitev parametrov za algoritem naključnega gozda s pomočjo naključnega iskanja."
   ],
   "metadata": {
    "collapsed": false
   }
  },
  {
   "cell_type": "code",
   "execution_count": 72,
   "outputs": [
    {
     "name": "stderr",
     "output_type": "stream",
     "text": [
      "/opt/homebrew/Caskroom/miniforge/base/envs/4_vaja/lib/python3.10/site-packages/sklearn/ensemble/_forest.py:427: FutureWarning: `max_features='auto'` has been deprecated in 1.1 and will be removed in 1.3. To keep the past behaviour, explicitly set `max_features='sqrt'` or remove this parameter as it is also the default value for RandomForestClassifiers and ExtraTreesClassifiers.\n",
      "  warn(\n",
      "/opt/homebrew/Caskroom/miniforge/base/envs/4_vaja/lib/python3.10/site-packages/sklearn/ensemble/_forest.py:427: FutureWarning: `max_features='auto'` has been deprecated in 1.1 and will be removed in 1.3. To keep the past behaviour, explicitly set `max_features='sqrt'` or remove this parameter as it is also the default value for RandomForestClassifiers and ExtraTreesClassifiers.\n",
      "  warn(\n",
      "/opt/homebrew/Caskroom/miniforge/base/envs/4_vaja/lib/python3.10/site-packages/sklearn/ensemble/_forest.py:427: FutureWarning: `max_features='auto'` has been deprecated in 1.1 and will be removed in 1.3. To keep the past behaviour, explicitly set `max_features='sqrt'` or remove this parameter as it is also the default value for RandomForestClassifiers and ExtraTreesClassifiers.\n",
      "  warn(\n",
      "/opt/homebrew/Caskroom/miniforge/base/envs/4_vaja/lib/python3.10/site-packages/sklearn/ensemble/_forest.py:427: FutureWarning: `max_features='auto'` has been deprecated in 1.1 and will be removed in 1.3. To keep the past behaviour, explicitly set `max_features='sqrt'` or remove this parameter as it is also the default value for RandomForestClassifiers and ExtraTreesClassifiers.\n",
      "  warn(\n",
      "/opt/homebrew/Caskroom/miniforge/base/envs/4_vaja/lib/python3.10/site-packages/sklearn/ensemble/_forest.py:427: FutureWarning: `max_features='auto'` has been deprecated in 1.1 and will be removed in 1.3. To keep the past behaviour, explicitly set `max_features='sqrt'` or remove this parameter as it is also the default value for RandomForestClassifiers and ExtraTreesClassifiers.\n",
      "  warn(\n",
      "/opt/homebrew/Caskroom/miniforge/base/envs/4_vaja/lib/python3.10/site-packages/sklearn/ensemble/_forest.py:427: FutureWarning: `max_features='auto'` has been deprecated in 1.1 and will be removed in 1.3. To keep the past behaviour, explicitly set `max_features='sqrt'` or remove this parameter as it is also the default value for RandomForestClassifiers and ExtraTreesClassifiers.\n",
      "  warn(\n",
      "/opt/homebrew/Caskroom/miniforge/base/envs/4_vaja/lib/python3.10/site-packages/sklearn/ensemble/_forest.py:427: FutureWarning: `max_features='auto'` has been deprecated in 1.1 and will be removed in 1.3. To keep the past behaviour, explicitly set `max_features='sqrt'` or remove this parameter as it is also the default value for RandomForestClassifiers and ExtraTreesClassifiers.\n",
      "  warn(\n",
      "/opt/homebrew/Caskroom/miniforge/base/envs/4_vaja/lib/python3.10/site-packages/sklearn/ensemble/_forest.py:427: FutureWarning: `max_features='auto'` has been deprecated in 1.1 and will be removed in 1.3. To keep the past behaviour, explicitly set `max_features='sqrt'` or remove this parameter as it is also the default value for RandomForestClassifiers and ExtraTreesClassifiers.\n",
      "  warn(\n",
      "/opt/homebrew/Caskroom/miniforge/base/envs/4_vaja/lib/python3.10/site-packages/sklearn/ensemble/_forest.py:427: FutureWarning: `max_features='auto'` has been deprecated in 1.1 and will be removed in 1.3. To keep the past behaviour, explicitly set `max_features='sqrt'` or remove this parameter as it is also the default value for RandomForestClassifiers and ExtraTreesClassifiers.\n",
      "  warn(\n",
      "/opt/homebrew/Caskroom/miniforge/base/envs/4_vaja/lib/python3.10/site-packages/sklearn/ensemble/_forest.py:427: FutureWarning: `max_features='auto'` has been deprecated in 1.1 and will be removed in 1.3. To keep the past behaviour, explicitly set `max_features='sqrt'` or remove this parameter as it is also the default value for RandomForestClassifiers and ExtraTreesClassifiers.\n",
      "  warn(\n",
      "/opt/homebrew/Caskroom/miniforge/base/envs/4_vaja/lib/python3.10/site-packages/sklearn/ensemble/_forest.py:427: FutureWarning: `max_features='auto'` has been deprecated in 1.1 and will be removed in 1.3. To keep the past behaviour, explicitly set `max_features='sqrt'` or remove this parameter as it is also the default value for RandomForestClassifiers and ExtraTreesClassifiers.\n",
      "  warn(\n",
      "/opt/homebrew/Caskroom/miniforge/base/envs/4_vaja/lib/python3.10/site-packages/sklearn/ensemble/_forest.py:427: FutureWarning: `max_features='auto'` has been deprecated in 1.1 and will be removed in 1.3. To keep the past behaviour, explicitly set `max_features='sqrt'` or remove this parameter as it is also the default value for RandomForestClassifiers and ExtraTreesClassifiers.\n",
      "  warn(\n",
      "/opt/homebrew/Caskroom/miniforge/base/envs/4_vaja/lib/python3.10/site-packages/sklearn/ensemble/_forest.py:427: FutureWarning: `max_features='auto'` has been deprecated in 1.1 and will be removed in 1.3. To keep the past behaviour, explicitly set `max_features='sqrt'` or remove this parameter as it is also the default value for RandomForestClassifiers and ExtraTreesClassifiers.\n",
      "  warn(\n",
      "/opt/homebrew/Caskroom/miniforge/base/envs/4_vaja/lib/python3.10/site-packages/sklearn/ensemble/_forest.py:427: FutureWarning: `max_features='auto'` has been deprecated in 1.1 and will be removed in 1.3. To keep the past behaviour, explicitly set `max_features='sqrt'` or remove this parameter as it is also the default value for RandomForestClassifiers and ExtraTreesClassifiers.\n",
      "  warn(\n",
      "/opt/homebrew/Caskroom/miniforge/base/envs/4_vaja/lib/python3.10/site-packages/sklearn/ensemble/_forest.py:427: FutureWarning: `max_features='auto'` has been deprecated in 1.1 and will be removed in 1.3. To keep the past behaviour, explicitly set `max_features='sqrt'` or remove this parameter as it is also the default value for RandomForestClassifiers and ExtraTreesClassifiers.\n",
      "  warn(\n",
      "/opt/homebrew/Caskroom/miniforge/base/envs/4_vaja/lib/python3.10/site-packages/sklearn/ensemble/_forest.py:427: FutureWarning: `max_features='auto'` has been deprecated in 1.1 and will be removed in 1.3. To keep the past behaviour, explicitly set `max_features='sqrt'` or remove this parameter as it is also the default value for RandomForestClassifiers and ExtraTreesClassifiers.\n",
      "  warn(\n",
      "/opt/homebrew/Caskroom/miniforge/base/envs/4_vaja/lib/python3.10/site-packages/sklearn/ensemble/_forest.py:427: FutureWarning: `max_features='auto'` has been deprecated in 1.1 and will be removed in 1.3. To keep the past behaviour, explicitly set `max_features='sqrt'` or remove this parameter as it is also the default value for RandomForestClassifiers and ExtraTreesClassifiers.\n",
      "  warn(\n",
      "/opt/homebrew/Caskroom/miniforge/base/envs/4_vaja/lib/python3.10/site-packages/sklearn/ensemble/_forest.py:427: FutureWarning: `max_features='auto'` has been deprecated in 1.1 and will be removed in 1.3. To keep the past behaviour, explicitly set `max_features='sqrt'` or remove this parameter as it is also the default value for RandomForestClassifiers and ExtraTreesClassifiers.\n",
      "  warn(\n",
      "/opt/homebrew/Caskroom/miniforge/base/envs/4_vaja/lib/python3.10/site-packages/sklearn/ensemble/_forest.py:427: FutureWarning: `max_features='auto'` has been deprecated in 1.1 and will be removed in 1.3. To keep the past behaviour, explicitly set `max_features='sqrt'` or remove this parameter as it is also the default value for RandomForestClassifiers and ExtraTreesClassifiers.\n",
      "  warn(\n",
      "/opt/homebrew/Caskroom/miniforge/base/envs/4_vaja/lib/python3.10/site-packages/sklearn/ensemble/_forest.py:427: FutureWarning: `max_features='auto'` has been deprecated in 1.1 and will be removed in 1.3. To keep the past behaviour, explicitly set `max_features='sqrt'` or remove this parameter as it is also the default value for RandomForestClassifiers and ExtraTreesClassifiers.\n",
      "  warn(\n",
      "/opt/homebrew/Caskroom/miniforge/base/envs/4_vaja/lib/python3.10/site-packages/sklearn/ensemble/_forest.py:427: FutureWarning: `max_features='auto'` has been deprecated in 1.1 and will be removed in 1.3. To keep the past behaviour, explicitly set `max_features='sqrt'` or remove this parameter as it is also the default value for RandomForestClassifiers and ExtraTreesClassifiers.\n",
      "  warn(\n",
      "/opt/homebrew/Caskroom/miniforge/base/envs/4_vaja/lib/python3.10/site-packages/sklearn/ensemble/_forest.py:427: FutureWarning: `max_features='auto'` has been deprecated in 1.1 and will be removed in 1.3. To keep the past behaviour, explicitly set `max_features='sqrt'` or remove this parameter as it is also the default value for RandomForestClassifiers and ExtraTreesClassifiers.\n",
      "  warn(\n",
      "/opt/homebrew/Caskroom/miniforge/base/envs/4_vaja/lib/python3.10/site-packages/sklearn/ensemble/_forest.py:427: FutureWarning: `max_features='auto'` has been deprecated in 1.1 and will be removed in 1.3. To keep the past behaviour, explicitly set `max_features='sqrt'` or remove this parameter as it is also the default value for RandomForestClassifiers and ExtraTreesClassifiers.\n",
      "  warn(\n",
      "/opt/homebrew/Caskroom/miniforge/base/envs/4_vaja/lib/python3.10/site-packages/sklearn/ensemble/_forest.py:427: FutureWarning: `max_features='auto'` has been deprecated in 1.1 and will be removed in 1.3. To keep the past behaviour, explicitly set `max_features='sqrt'` or remove this parameter as it is also the default value for RandomForestClassifiers and ExtraTreesClassifiers.\n",
      "  warn(\n",
      "/opt/homebrew/Caskroom/miniforge/base/envs/4_vaja/lib/python3.10/site-packages/sklearn/ensemble/_forest.py:427: FutureWarning: `max_features='auto'` has been deprecated in 1.1 and will be removed in 1.3. To keep the past behaviour, explicitly set `max_features='sqrt'` or remove this parameter as it is also the default value for RandomForestClassifiers and ExtraTreesClassifiers.\n",
      "  warn(\n",
      "/opt/homebrew/Caskroom/miniforge/base/envs/4_vaja/lib/python3.10/site-packages/sklearn/ensemble/_forest.py:427: FutureWarning: `max_features='auto'` has been deprecated in 1.1 and will be removed in 1.3. To keep the past behaviour, explicitly set `max_features='sqrt'` or remove this parameter as it is also the default value for RandomForestClassifiers and ExtraTreesClassifiers.\n",
      "  warn(\n",
      "/opt/homebrew/Caskroom/miniforge/base/envs/4_vaja/lib/python3.10/site-packages/sklearn/ensemble/_forest.py:427: FutureWarning: `max_features='auto'` has been deprecated in 1.1 and will be removed in 1.3. To keep the past behaviour, explicitly set `max_features='sqrt'` or remove this parameter as it is also the default value for RandomForestClassifiers and ExtraTreesClassifiers.\n",
      "  warn(\n",
      "/opt/homebrew/Caskroom/miniforge/base/envs/4_vaja/lib/python3.10/site-packages/sklearn/ensemble/_forest.py:427: FutureWarning: `max_features='auto'` has been deprecated in 1.1 and will be removed in 1.3. To keep the past behaviour, explicitly set `max_features='sqrt'` or remove this parameter as it is also the default value for RandomForestClassifiers and ExtraTreesClassifiers.\n",
      "  warn(\n",
      "/opt/homebrew/Caskroom/miniforge/base/envs/4_vaja/lib/python3.10/site-packages/sklearn/ensemble/_forest.py:427: FutureWarning: `max_features='auto'` has been deprecated in 1.1 and will be removed in 1.3. To keep the past behaviour, explicitly set `max_features='sqrt'` or remove this parameter as it is also the default value for RandomForestClassifiers and ExtraTreesClassifiers.\n",
      "  warn(\n",
      "/opt/homebrew/Caskroom/miniforge/base/envs/4_vaja/lib/python3.10/site-packages/sklearn/ensemble/_forest.py:427: FutureWarning: `max_features='auto'` has been deprecated in 1.1 and will be removed in 1.3. To keep the past behaviour, explicitly set `max_features='sqrt'` or remove this parameter as it is also the default value for RandomForestClassifiers and ExtraTreesClassifiers.\n",
      "  warn(\n",
      "/opt/homebrew/Caskroom/miniforge/base/envs/4_vaja/lib/python3.10/site-packages/sklearn/ensemble/_forest.py:427: FutureWarning: `max_features='auto'` has been deprecated in 1.1 and will be removed in 1.3. To keep the past behaviour, explicitly set `max_features='sqrt'` or remove this parameter as it is also the default value for RandomForestClassifiers and ExtraTreesClassifiers.\n",
      "  warn(\n",
      "/opt/homebrew/Caskroom/miniforge/base/envs/4_vaja/lib/python3.10/site-packages/sklearn/ensemble/_forest.py:427: FutureWarning: `max_features='auto'` has been deprecated in 1.1 and will be removed in 1.3. To keep the past behaviour, explicitly set `max_features='sqrt'` or remove this parameter as it is also the default value for RandomForestClassifiers and ExtraTreesClassifiers.\n",
      "  warn(\n",
      "/opt/homebrew/Caskroom/miniforge/base/envs/4_vaja/lib/python3.10/site-packages/sklearn/ensemble/_forest.py:427: FutureWarning: `max_features='auto'` has been deprecated in 1.1 and will be removed in 1.3. To keep the past behaviour, explicitly set `max_features='sqrt'` or remove this parameter as it is also the default value for RandomForestClassifiers and ExtraTreesClassifiers.\n",
      "  warn(\n",
      "/opt/homebrew/Caskroom/miniforge/base/envs/4_vaja/lib/python3.10/site-packages/sklearn/ensemble/_forest.py:427: FutureWarning: `max_features='auto'` has been deprecated in 1.1 and will be removed in 1.3. To keep the past behaviour, explicitly set `max_features='sqrt'` or remove this parameter as it is also the default value for RandomForestClassifiers and ExtraTreesClassifiers.\n",
      "  warn(\n",
      "/opt/homebrew/Caskroom/miniforge/base/envs/4_vaja/lib/python3.10/site-packages/sklearn/ensemble/_forest.py:427: FutureWarning: `max_features='auto'` has been deprecated in 1.1 and will be removed in 1.3. To keep the past behaviour, explicitly set `max_features='sqrt'` or remove this parameter as it is also the default value for RandomForestClassifiers and ExtraTreesClassifiers.\n",
      "  warn(\n",
      "/opt/homebrew/Caskroom/miniforge/base/envs/4_vaja/lib/python3.10/site-packages/sklearn/ensemble/_forest.py:427: FutureWarning: `max_features='auto'` has been deprecated in 1.1 and will be removed in 1.3. To keep the past behaviour, explicitly set `max_features='sqrt'` or remove this parameter as it is also the default value for RandomForestClassifiers and ExtraTreesClassifiers.\n",
      "  warn(\n",
      "/opt/homebrew/Caskroom/miniforge/base/envs/4_vaja/lib/python3.10/site-packages/sklearn/ensemble/_forest.py:427: FutureWarning: `max_features='auto'` has been deprecated in 1.1 and will be removed in 1.3. To keep the past behaviour, explicitly set `max_features='sqrt'` or remove this parameter as it is also the default value for RandomForestClassifiers and ExtraTreesClassifiers.\n",
      "  warn(\n",
      "/opt/homebrew/Caskroom/miniforge/base/envs/4_vaja/lib/python3.10/site-packages/sklearn/ensemble/_forest.py:427: FutureWarning: `max_features='auto'` has been deprecated in 1.1 and will be removed in 1.3. To keep the past behaviour, explicitly set `max_features='sqrt'` or remove this parameter as it is also the default value for RandomForestClassifiers and ExtraTreesClassifiers.\n",
      "  warn(\n",
      "/opt/homebrew/Caskroom/miniforge/base/envs/4_vaja/lib/python3.10/site-packages/sklearn/ensemble/_forest.py:427: FutureWarning: `max_features='auto'` has been deprecated in 1.1 and will be removed in 1.3. To keep the past behaviour, explicitly set `max_features='sqrt'` or remove this parameter as it is also the default value for RandomForestClassifiers and ExtraTreesClassifiers.\n",
      "  warn(\n",
      "/opt/homebrew/Caskroom/miniforge/base/envs/4_vaja/lib/python3.10/site-packages/sklearn/ensemble/_forest.py:427: FutureWarning: `max_features='auto'` has been deprecated in 1.1 and will be removed in 1.3. To keep the past behaviour, explicitly set `max_features='sqrt'` or remove this parameter as it is also the default value for RandomForestClassifiers and ExtraTreesClassifiers.\n",
      "  warn(\n",
      "/opt/homebrew/Caskroom/miniforge/base/envs/4_vaja/lib/python3.10/site-packages/sklearn/ensemble/_forest.py:427: FutureWarning: `max_features='auto'` has been deprecated in 1.1 and will be removed in 1.3. To keep the past behaviour, explicitly set `max_features='sqrt'` or remove this parameter as it is also the default value for RandomForestClassifiers and ExtraTreesClassifiers.\n",
      "  warn(\n",
      "/opt/homebrew/Caskroom/miniforge/base/envs/4_vaja/lib/python3.10/site-packages/sklearn/ensemble/_forest.py:427: FutureWarning: `max_features='auto'` has been deprecated in 1.1 and will be removed in 1.3. To keep the past behaviour, explicitly set `max_features='sqrt'` or remove this parameter as it is also the default value for RandomForestClassifiers and ExtraTreesClassifiers.\n",
      "  warn(\n",
      "/opt/homebrew/Caskroom/miniforge/base/envs/4_vaja/lib/python3.10/site-packages/sklearn/ensemble/_forest.py:427: FutureWarning: `max_features='auto'` has been deprecated in 1.1 and will be removed in 1.3. To keep the past behaviour, explicitly set `max_features='sqrt'` or remove this parameter as it is also the default value for RandomForestClassifiers and ExtraTreesClassifiers.\n",
      "  warn(\n",
      "/opt/homebrew/Caskroom/miniforge/base/envs/4_vaja/lib/python3.10/site-packages/sklearn/ensemble/_forest.py:427: FutureWarning: `max_features='auto'` has been deprecated in 1.1 and will be removed in 1.3. To keep the past behaviour, explicitly set `max_features='sqrt'` or remove this parameter as it is also the default value for RandomForestClassifiers and ExtraTreesClassifiers.\n",
      "  warn(\n",
      "/opt/homebrew/Caskroom/miniforge/base/envs/4_vaja/lib/python3.10/site-packages/sklearn/ensemble/_forest.py:427: FutureWarning: `max_features='auto'` has been deprecated in 1.1 and will be removed in 1.3. To keep the past behaviour, explicitly set `max_features='sqrt'` or remove this parameter as it is also the default value for RandomForestClassifiers and ExtraTreesClassifiers.\n",
      "  warn(\n",
      "/opt/homebrew/Caskroom/miniforge/base/envs/4_vaja/lib/python3.10/site-packages/sklearn/ensemble/_forest.py:427: FutureWarning: `max_features='auto'` has been deprecated in 1.1 and will be removed in 1.3. To keep the past behaviour, explicitly set `max_features='sqrt'` or remove this parameter as it is also the default value for RandomForestClassifiers and ExtraTreesClassifiers.\n",
      "  warn(\n",
      "/opt/homebrew/Caskroom/miniforge/base/envs/4_vaja/lib/python3.10/site-packages/sklearn/ensemble/_forest.py:427: FutureWarning: `max_features='auto'` has been deprecated in 1.1 and will be removed in 1.3. To keep the past behaviour, explicitly set `max_features='sqrt'` or remove this parameter as it is also the default value for RandomForestClassifiers and ExtraTreesClassifiers.\n",
      "  warn(\n",
      "/opt/homebrew/Caskroom/miniforge/base/envs/4_vaja/lib/python3.10/site-packages/sklearn/ensemble/_forest.py:427: FutureWarning: `max_features='auto'` has been deprecated in 1.1 and will be removed in 1.3. To keep the past behaviour, explicitly set `max_features='sqrt'` or remove this parameter as it is also the default value for RandomForestClassifiers and ExtraTreesClassifiers.\n",
      "  warn(\n",
      "/opt/homebrew/Caskroom/miniforge/base/envs/4_vaja/lib/python3.10/site-packages/sklearn/ensemble/_forest.py:427: FutureWarning: `max_features='auto'` has been deprecated in 1.1 and will be removed in 1.3. To keep the past behaviour, explicitly set `max_features='sqrt'` or remove this parameter as it is also the default value for RandomForestClassifiers and ExtraTreesClassifiers.\n",
      "  warn(\n",
      "/opt/homebrew/Caskroom/miniforge/base/envs/4_vaja/lib/python3.10/site-packages/sklearn/ensemble/_forest.py:427: FutureWarning: `max_features='auto'` has been deprecated in 1.1 and will be removed in 1.3. To keep the past behaviour, explicitly set `max_features='sqrt'` or remove this parameter as it is also the default value for RandomForestClassifiers and ExtraTreesClassifiers.\n",
      "  warn(\n",
      "/opt/homebrew/Caskroom/miniforge/base/envs/4_vaja/lib/python3.10/site-packages/sklearn/ensemble/_forest.py:427: FutureWarning: `max_features='auto'` has been deprecated in 1.1 and will be removed in 1.3. To keep the past behaviour, explicitly set `max_features='sqrt'` or remove this parameter as it is also the default value for RandomForestClassifiers and ExtraTreesClassifiers.\n",
      "  warn(\n",
      "/opt/homebrew/Caskroom/miniforge/base/envs/4_vaja/lib/python3.10/site-packages/sklearn/ensemble/_forest.py:427: FutureWarning: `max_features='auto'` has been deprecated in 1.1 and will be removed in 1.3. To keep the past behaviour, explicitly set `max_features='sqrt'` or remove this parameter as it is also the default value for RandomForestClassifiers and ExtraTreesClassifiers.\n",
      "  warn(\n",
      "/opt/homebrew/Caskroom/miniforge/base/envs/4_vaja/lib/python3.10/site-packages/sklearn/ensemble/_forest.py:427: FutureWarning: `max_features='auto'` has been deprecated in 1.1 and will be removed in 1.3. To keep the past behaviour, explicitly set `max_features='sqrt'` or remove this parameter as it is also the default value for RandomForestClassifiers and ExtraTreesClassifiers.\n",
      "  warn(\n",
      "/opt/homebrew/Caskroom/miniforge/base/envs/4_vaja/lib/python3.10/site-packages/sklearn/ensemble/_forest.py:427: FutureWarning: `max_features='auto'` has been deprecated in 1.1 and will be removed in 1.3. To keep the past behaviour, explicitly set `max_features='sqrt'` or remove this parameter as it is also the default value for RandomForestClassifiers and ExtraTreesClassifiers.\n",
      "  warn(\n",
      "/opt/homebrew/Caskroom/miniforge/base/envs/4_vaja/lib/python3.10/site-packages/sklearn/ensemble/_forest.py:427: FutureWarning: `max_features='auto'` has been deprecated in 1.1 and will be removed in 1.3. To keep the past behaviour, explicitly set `max_features='sqrt'` or remove this parameter as it is also the default value for RandomForestClassifiers and ExtraTreesClassifiers.\n",
      "  warn(\n",
      "/opt/homebrew/Caskroom/miniforge/base/envs/4_vaja/lib/python3.10/site-packages/sklearn/ensemble/_forest.py:427: FutureWarning: `max_features='auto'` has been deprecated in 1.1 and will be removed in 1.3. To keep the past behaviour, explicitly set `max_features='sqrt'` or remove this parameter as it is also the default value for RandomForestClassifiers and ExtraTreesClassifiers.\n",
      "  warn(\n",
      "/opt/homebrew/Caskroom/miniforge/base/envs/4_vaja/lib/python3.10/site-packages/sklearn/ensemble/_forest.py:427: FutureWarning: `max_features='auto'` has been deprecated in 1.1 and will be removed in 1.3. To keep the past behaviour, explicitly set `max_features='sqrt'` or remove this parameter as it is also the default value for RandomForestClassifiers and ExtraTreesClassifiers.\n",
      "  warn(\n",
      "/opt/homebrew/Caskroom/miniforge/base/envs/4_vaja/lib/python3.10/site-packages/sklearn/ensemble/_forest.py:427: FutureWarning: `max_features='auto'` has been deprecated in 1.1 and will be removed in 1.3. To keep the past behaviour, explicitly set `max_features='sqrt'` or remove this parameter as it is also the default value for RandomForestClassifiers and ExtraTreesClassifiers.\n",
      "  warn(\n",
      "/opt/homebrew/Caskroom/miniforge/base/envs/4_vaja/lib/python3.10/site-packages/sklearn/ensemble/_forest.py:427: FutureWarning: `max_features='auto'` has been deprecated in 1.1 and will be removed in 1.3. To keep the past behaviour, explicitly set `max_features='sqrt'` or remove this parameter as it is also the default value for RandomForestClassifiers and ExtraTreesClassifiers.\n",
      "  warn(\n",
      "/opt/homebrew/Caskroom/miniforge/base/envs/4_vaja/lib/python3.10/site-packages/sklearn/ensemble/_forest.py:427: FutureWarning: `max_features='auto'` has been deprecated in 1.1 and will be removed in 1.3. To keep the past behaviour, explicitly set `max_features='sqrt'` or remove this parameter as it is also the default value for RandomForestClassifiers and ExtraTreesClassifiers.\n",
      "  warn(\n",
      "/opt/homebrew/Caskroom/miniforge/base/envs/4_vaja/lib/python3.10/site-packages/sklearn/ensemble/_forest.py:427: FutureWarning: `max_features='auto'` has been deprecated in 1.1 and will be removed in 1.3. To keep the past behaviour, explicitly set `max_features='sqrt'` or remove this parameter as it is also the default value for RandomForestClassifiers and ExtraTreesClassifiers.\n",
      "  warn(\n",
      "/opt/homebrew/Caskroom/miniforge/base/envs/4_vaja/lib/python3.10/site-packages/sklearn/ensemble/_forest.py:427: FutureWarning: `max_features='auto'` has been deprecated in 1.1 and will be removed in 1.3. To keep the past behaviour, explicitly set `max_features='sqrt'` or remove this parameter as it is also the default value for RandomForestClassifiers and ExtraTreesClassifiers.\n",
      "  warn(\n",
      "/opt/homebrew/Caskroom/miniforge/base/envs/4_vaja/lib/python3.10/site-packages/sklearn/ensemble/_forest.py:427: FutureWarning: `max_features='auto'` has been deprecated in 1.1 and will be removed in 1.3. To keep the past behaviour, explicitly set `max_features='sqrt'` or remove this parameter as it is also the default value for RandomForestClassifiers and ExtraTreesClassifiers.\n",
      "  warn(\n",
      "/opt/homebrew/Caskroom/miniforge/base/envs/4_vaja/lib/python3.10/site-packages/sklearn/ensemble/_forest.py:427: FutureWarning: `max_features='auto'` has been deprecated in 1.1 and will be removed in 1.3. To keep the past behaviour, explicitly set `max_features='sqrt'` or remove this parameter as it is also the default value for RandomForestClassifiers and ExtraTreesClassifiers.\n",
      "  warn(\n",
      "/opt/homebrew/Caskroom/miniforge/base/envs/4_vaja/lib/python3.10/site-packages/sklearn/ensemble/_forest.py:427: FutureWarning: `max_features='auto'` has been deprecated in 1.1 and will be removed in 1.3. To keep the past behaviour, explicitly set `max_features='sqrt'` or remove this parameter as it is also the default value for RandomForestClassifiers and ExtraTreesClassifiers.\n",
      "  warn(\n",
      "/opt/homebrew/Caskroom/miniforge/base/envs/4_vaja/lib/python3.10/site-packages/sklearn/ensemble/_forest.py:427: FutureWarning: `max_features='auto'` has been deprecated in 1.1 and will be removed in 1.3. To keep the past behaviour, explicitly set `max_features='sqrt'` or remove this parameter as it is also the default value for RandomForestClassifiers and ExtraTreesClassifiers.\n",
      "  warn(\n"
     ]
    },
    {
     "name": "stdout",
     "output_type": "stream",
     "text": [
      "Najboljše vrednosti parametrov so: {'criterion': 'gini', 'max_depth': 38, 'max_features': 'auto', 'n_estimators': 235}\n",
      "Najboljši rezultat je: 0.8131694828469023\n",
      "Najboljša uporaba v kodi je: RandomForestClassifier(max_depth=38, max_features='auto', n_estimators=235)\n"
     ]
    }
   ],
   "source": [
    "\n",
    "parameters = {\n",
    "    \"n_estimators\": sp_randint(1, 1500),\n",
    "    \"max_depth\": sp_randint(2, 50),\n",
    "    \"criterion\": [\"gini\", \"entropy\"],\n",
    "    \"max_features\": [\"auto\", \"sqrt\", \"log2\"],\n",
    "}\n",
    "\n",
    "clf = RandomizedSearchCV(RandomForestClassifier(),\n",
    "                         param_distributions=parameters,\n",
    "                         cv=5,\n",
    "                         n_iter=50,\n",
    "                         scoring='accuracy')\n",
    "\n",
    "clf.fit(X, y)\n",
    "\n",
    "print('Najboljše vrednosti parametrov so:', clf.best_params_)\n",
    "print('Najboljši rezultat je:', clf.best_score_)\n",
    "print('Najboljša uporaba v kodi je:', clf.best_estimator_)"
   ],
   "metadata": {
    "collapsed": false,
    "pycharm": {
     "name": "#%%\n"
    }
   }
  }
 ],
 "metadata": {
  "kernelspec": {
   "display_name": "Python 3",
   "language": "python",
   "name": "python3"
  },
  "language_info": {
   "codemirror_mode": {
    "name": "ipython",
    "version": 2
   },
   "file_extension": ".py",
   "mimetype": "text/x-python",
   "name": "python",
   "nbconvert_exporter": "python",
   "pygments_lexer": "ipython2",
   "version": "2.7.6"
  }
 },
 "nbformat": 4,
 "nbformat_minor": 0
}