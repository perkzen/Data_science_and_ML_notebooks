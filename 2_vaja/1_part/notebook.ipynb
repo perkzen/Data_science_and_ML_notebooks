{
 "cells": [
  {
   "cell_type": "markdown",
   "source": [
    "Read CSV."
   ],
   "metadata": {
    "collapsed": false
   }
  },
  {
   "cell_type": "code",
   "execution_count": 1,
   "metadata": {
    "collapsed": true
   },
   "outputs": [],
   "source": [
    "import pandas as pd\n",
    "\n",
    "df = pd.read_csv(\"mobile_price_prediction.csv\")"
   ]
  },
  {
   "cell_type": "markdown",
   "source": [
    "Display data types."
   ],
   "metadata": {
    "collapsed": false
   }
  },
  {
   "cell_type": "code",
   "execution_count": 3,
   "outputs": [
    {
     "data": {
      "text/plain": "id                 int64\nbattery_power      int64\nblue               int64\nclock_speed      float64\ndual_sim           int64\nfc                 int64\nfour_g             int64\nint_memory         int64\nm_dep            float64\nmobile_wt          int64\nn_cores            int64\npc                 int64\npx_height          int64\npx_width           int64\nram                int64\nsc_h               int64\nsc_w               int64\ntalk_time          int64\nthree_g            int64\ntouch_screen       int64\nwifi               int64\ndtype: object"
     },
     "execution_count": 3,
     "metadata": {},
     "output_type": "execute_result"
    }
   ],
   "source": [
    "df.dtypes"
   ],
   "metadata": {
    "collapsed": false,
    "pycharm": {
     "name": "#%%\n"
    }
   }
  },
  {
   "cell_type": "markdown",
   "source": [
    "Print first 6 rows."
   ],
   "metadata": {
    "collapsed": false
   }
  },
  {
   "cell_type": "code",
   "execution_count": 4,
   "outputs": [
    {
     "data": {
      "text/plain": "   id    battery_power  blue  clock_speed  dual_sim  fc  four_g  int_memory  \\\n0     1           1043     1          1.8         1  14       0           5   \n1     2            841     1          0.5         1   4       1          61   \n2     3           1807     1          2.8         0   1       0          27   \n3     4           1546     0          0.5         1  18       1          25   \n4     5           1434     0          1.4         0  11       1          49   \n5     6           1464     1          2.9         1   5       1          50   \n\n   m_dep  mobile_wt  ...  pc  px_height  px_width  ram   sc_h  sc_w  \\\n0    0.1        193  ...  16        226      1412  3476    12     7   \n1    0.8        191  ...  12        746       857  3895     6     0   \n2    0.9        186  ...   4       1270      1366  2396    17    10   \n3    0.5         96  ...  20        295      1752  3893    10     0   \n4    0.5        108  ...  18        749       810  1773    15     8   \n5    0.8        198  ...   9        569       939  3506    10     7   \n\n   talk_time  three_g  touch_screen  wifi  \n0          2        0             1     0  \n1          7        1             0     0  \n2         10        0             1     1  \n3          7        1             1     0  \n4          7        1             0     1  \n5          3        1             1     1  \n\n[6 rows x 21 columns]",
      "text/html": "<div>\n<style scoped>\n    .dataframe tbody tr th:only-of-type {\n        vertical-align: middle;\n    }\n\n    .dataframe tbody tr th {\n        vertical-align: top;\n    }\n\n    .dataframe thead th {\n        text-align: right;\n    }\n</style>\n<table border=\"1\" class=\"dataframe\">\n  <thead>\n    <tr style=\"text-align: right;\">\n      <th></th>\n      <th>id</th>\n      <th>battery_power</th>\n      <th>blue</th>\n      <th>clock_speed</th>\n      <th>dual_sim</th>\n      <th>fc</th>\n      <th>four_g</th>\n      <th>int_memory</th>\n      <th>m_dep</th>\n      <th>mobile_wt</th>\n      <th>...</th>\n      <th>pc</th>\n      <th>px_height</th>\n      <th>px_width</th>\n      <th>ram</th>\n      <th>sc_h</th>\n      <th>sc_w</th>\n      <th>talk_time</th>\n      <th>three_g</th>\n      <th>touch_screen</th>\n      <th>wifi</th>\n    </tr>\n  </thead>\n  <tbody>\n    <tr>\n      <th>0</th>\n      <td>1</td>\n      <td>1043</td>\n      <td>1</td>\n      <td>1.8</td>\n      <td>1</td>\n      <td>14</td>\n      <td>0</td>\n      <td>5</td>\n      <td>0.1</td>\n      <td>193</td>\n      <td>...</td>\n      <td>16</td>\n      <td>226</td>\n      <td>1412</td>\n      <td>3476</td>\n      <td>12</td>\n      <td>7</td>\n      <td>2</td>\n      <td>0</td>\n      <td>1</td>\n      <td>0</td>\n    </tr>\n    <tr>\n      <th>1</th>\n      <td>2</td>\n      <td>841</td>\n      <td>1</td>\n      <td>0.5</td>\n      <td>1</td>\n      <td>4</td>\n      <td>1</td>\n      <td>61</td>\n      <td>0.8</td>\n      <td>191</td>\n      <td>...</td>\n      <td>12</td>\n      <td>746</td>\n      <td>857</td>\n      <td>3895</td>\n      <td>6</td>\n      <td>0</td>\n      <td>7</td>\n      <td>1</td>\n      <td>0</td>\n      <td>0</td>\n    </tr>\n    <tr>\n      <th>2</th>\n      <td>3</td>\n      <td>1807</td>\n      <td>1</td>\n      <td>2.8</td>\n      <td>0</td>\n      <td>1</td>\n      <td>0</td>\n      <td>27</td>\n      <td>0.9</td>\n      <td>186</td>\n      <td>...</td>\n      <td>4</td>\n      <td>1270</td>\n      <td>1366</td>\n      <td>2396</td>\n      <td>17</td>\n      <td>10</td>\n      <td>10</td>\n      <td>0</td>\n      <td>1</td>\n      <td>1</td>\n    </tr>\n    <tr>\n      <th>3</th>\n      <td>4</td>\n      <td>1546</td>\n      <td>0</td>\n      <td>0.5</td>\n      <td>1</td>\n      <td>18</td>\n      <td>1</td>\n      <td>25</td>\n      <td>0.5</td>\n      <td>96</td>\n      <td>...</td>\n      <td>20</td>\n      <td>295</td>\n      <td>1752</td>\n      <td>3893</td>\n      <td>10</td>\n      <td>0</td>\n      <td>7</td>\n      <td>1</td>\n      <td>1</td>\n      <td>0</td>\n    </tr>\n    <tr>\n      <th>4</th>\n      <td>5</td>\n      <td>1434</td>\n      <td>0</td>\n      <td>1.4</td>\n      <td>0</td>\n      <td>11</td>\n      <td>1</td>\n      <td>49</td>\n      <td>0.5</td>\n      <td>108</td>\n      <td>...</td>\n      <td>18</td>\n      <td>749</td>\n      <td>810</td>\n      <td>1773</td>\n      <td>15</td>\n      <td>8</td>\n      <td>7</td>\n      <td>1</td>\n      <td>0</td>\n      <td>1</td>\n    </tr>\n    <tr>\n      <th>5</th>\n      <td>6</td>\n      <td>1464</td>\n      <td>1</td>\n      <td>2.9</td>\n      <td>1</td>\n      <td>5</td>\n      <td>1</td>\n      <td>50</td>\n      <td>0.8</td>\n      <td>198</td>\n      <td>...</td>\n      <td>9</td>\n      <td>569</td>\n      <td>939</td>\n      <td>3506</td>\n      <td>10</td>\n      <td>7</td>\n      <td>3</td>\n      <td>1</td>\n      <td>1</td>\n      <td>1</td>\n    </tr>\n  </tbody>\n</table>\n<p>6 rows × 21 columns</p>\n</div>"
     },
     "execution_count": 4,
     "metadata": {},
     "output_type": "execute_result"
    }
   ],
   "source": [
    "df.head(6)"
   ],
   "metadata": {
    "collapsed": false,
    "pycharm": {
     "name": "#%%\n"
    }
   }
  },
  {
   "cell_type": "markdown",
   "source": [
    "Print last 5 rows."
   ],
   "metadata": {
    "collapsed": false
   }
  },
  {
   "cell_type": "code",
   "execution_count": 5,
   "outputs": [
    {
     "data": {
      "text/plain": "     id    battery_power  blue  clock_speed  dual_sim  fc  four_g  int_memory  \\\n995   996           1700     1          1.9         0   0       1          54   \n996   997            609     0          1.8         1   0       0          13   \n997   998           1185     0          1.4         0   1       1           8   \n998   999           1533     1          0.5         1   0       0          50   \n999  1000           1270     1          0.5         0   4       1          35   \n\n     m_dep  mobile_wt  ...  pc  px_height  px_width  ram   sc_h  sc_w  \\\n995    0.5        170  ...  17        644       913  2121    14     8   \n996    0.9        186  ...   2       1152      1632  1933     8     1   \n997    0.5         80  ...  12        477       825  1223     5     0   \n998    0.4        171  ...  12         38       832  2509    15    11   \n999    0.1        140  ...  19        457       608  2828     9     2   \n\n     talk_time  three_g  touch_screen  wifi  \n995         15        1             1     0  \n996         19        0             1     1  \n997         14        1             0     0  \n998          6        0             1     0  \n999          3        1             0     1  \n\n[5 rows x 21 columns]",
      "text/html": "<div>\n<style scoped>\n    .dataframe tbody tr th:only-of-type {\n        vertical-align: middle;\n    }\n\n    .dataframe tbody tr th {\n        vertical-align: top;\n    }\n\n    .dataframe thead th {\n        text-align: right;\n    }\n</style>\n<table border=\"1\" class=\"dataframe\">\n  <thead>\n    <tr style=\"text-align: right;\">\n      <th></th>\n      <th>id</th>\n      <th>battery_power</th>\n      <th>blue</th>\n      <th>clock_speed</th>\n      <th>dual_sim</th>\n      <th>fc</th>\n      <th>four_g</th>\n      <th>int_memory</th>\n      <th>m_dep</th>\n      <th>mobile_wt</th>\n      <th>...</th>\n      <th>pc</th>\n      <th>px_height</th>\n      <th>px_width</th>\n      <th>ram</th>\n      <th>sc_h</th>\n      <th>sc_w</th>\n      <th>talk_time</th>\n      <th>three_g</th>\n      <th>touch_screen</th>\n      <th>wifi</th>\n    </tr>\n  </thead>\n  <tbody>\n    <tr>\n      <th>995</th>\n      <td>996</td>\n      <td>1700</td>\n      <td>1</td>\n      <td>1.9</td>\n      <td>0</td>\n      <td>0</td>\n      <td>1</td>\n      <td>54</td>\n      <td>0.5</td>\n      <td>170</td>\n      <td>...</td>\n      <td>17</td>\n      <td>644</td>\n      <td>913</td>\n      <td>2121</td>\n      <td>14</td>\n      <td>8</td>\n      <td>15</td>\n      <td>1</td>\n      <td>1</td>\n      <td>0</td>\n    </tr>\n    <tr>\n      <th>996</th>\n      <td>997</td>\n      <td>609</td>\n      <td>0</td>\n      <td>1.8</td>\n      <td>1</td>\n      <td>0</td>\n      <td>0</td>\n      <td>13</td>\n      <td>0.9</td>\n      <td>186</td>\n      <td>...</td>\n      <td>2</td>\n      <td>1152</td>\n      <td>1632</td>\n      <td>1933</td>\n      <td>8</td>\n      <td>1</td>\n      <td>19</td>\n      <td>0</td>\n      <td>1</td>\n      <td>1</td>\n    </tr>\n    <tr>\n      <th>997</th>\n      <td>998</td>\n      <td>1185</td>\n      <td>0</td>\n      <td>1.4</td>\n      <td>0</td>\n      <td>1</td>\n      <td>1</td>\n      <td>8</td>\n      <td>0.5</td>\n      <td>80</td>\n      <td>...</td>\n      <td>12</td>\n      <td>477</td>\n      <td>825</td>\n      <td>1223</td>\n      <td>5</td>\n      <td>0</td>\n      <td>14</td>\n      <td>1</td>\n      <td>0</td>\n      <td>0</td>\n    </tr>\n    <tr>\n      <th>998</th>\n      <td>999</td>\n      <td>1533</td>\n      <td>1</td>\n      <td>0.5</td>\n      <td>1</td>\n      <td>0</td>\n      <td>0</td>\n      <td>50</td>\n      <td>0.4</td>\n      <td>171</td>\n      <td>...</td>\n      <td>12</td>\n      <td>38</td>\n      <td>832</td>\n      <td>2509</td>\n      <td>15</td>\n      <td>11</td>\n      <td>6</td>\n      <td>0</td>\n      <td>1</td>\n      <td>0</td>\n    </tr>\n    <tr>\n      <th>999</th>\n      <td>1000</td>\n      <td>1270</td>\n      <td>1</td>\n      <td>0.5</td>\n      <td>0</td>\n      <td>4</td>\n      <td>1</td>\n      <td>35</td>\n      <td>0.1</td>\n      <td>140</td>\n      <td>...</td>\n      <td>19</td>\n      <td>457</td>\n      <td>608</td>\n      <td>2828</td>\n      <td>9</td>\n      <td>2</td>\n      <td>3</td>\n      <td>1</td>\n      <td>0</td>\n      <td>1</td>\n    </tr>\n  </tbody>\n</table>\n<p>5 rows × 21 columns</p>\n</div>"
     },
     "execution_count": 5,
     "metadata": {},
     "output_type": "execute_result"
    }
   ],
   "source": [
    "df.tail()"
   ],
   "metadata": {
    "collapsed": false,
    "pycharm": {
     "name": "#%%\n"
    }
   }
  },
  {
   "cell_type": "markdown",
   "source": [
    "Print number of rows and columns"
   ],
   "metadata": {
    "collapsed": false
   }
  },
  {
   "cell_type": "code",
   "execution_count": 6,
   "outputs": [
    {
     "data": {
      "text/plain": "(1000, 21)"
     },
     "execution_count": 6,
     "metadata": {},
     "output_type": "execute_result"
    }
   ],
   "source": [
    "df.shape"
   ],
   "metadata": {
    "collapsed": false,
    "pycharm": {
     "name": "#%%\n"
    }
   }
  },
  {
   "cell_type": "markdown",
   "source": [
    "Print statistics for each column."
   ],
   "metadata": {
    "collapsed": false
   }
  },
  {
   "cell_type": "code",
   "execution_count": 7,
   "outputs": [
    {
     "data": {
      "text/plain": "              id    battery_power         blue  clock_speed     dual_sim  \\\ncount  1000.000000    1000.000000  1000.000000  1000.000000  1000.000000   \nmean    500.500000    1248.510000     0.516000     1.540900     0.517000   \nstd     288.819436     432.458227     0.499994     0.829268     0.499961   \nmin       1.000000     500.000000     0.000000     0.500000     0.000000   \n25%     250.750000     895.000000     0.000000     0.700000     0.000000   \n50%     500.500000    1246.500000     1.000000     1.500000     1.000000   \n75%     750.250000    1629.250000     1.000000     2.300000     1.000000   \nmax    1000.000000    1999.000000     1.000000     3.000000     1.000000   \n\n                fc       four_g   int_memory        m_dep   mobile_wt  ...  \\\ncount  1000.000000  1000.000000  1000.000000  1000.000000  1000.00000  ...   \nmean      4.593000     0.487000    33.652000     0.517500   139.51100  ...   \nstd       4.463325     0.500081    18.128694     0.280861    34.85155  ...   \nmin       0.000000     0.000000     2.000000     0.100000    80.00000  ...   \n25%       1.000000     0.000000    18.000000     0.300000   109.75000  ...   \n50%       3.000000     0.000000    34.500000     0.500000   139.00000  ...   \n75%       7.000000     1.000000    49.000000     0.800000   170.00000  ...   \nmax      19.000000     1.000000    64.000000     1.000000   200.00000  ...   \n\n                pc    px_height     px_width         ram          sc_h  \\\ncount  1000.000000  1000.000000  1000.000000  1000.000000  1000.000000   \nmean     10.054000   627.121000  1239.774000  2138.998000    11.995000   \nstd       6.095099   432.929699   439.670981  1088.092278     4.320607   \nmin       0.000000     0.000000   501.000000   263.000000     5.000000   \n25%       5.000000   263.750000   831.750000  1237.250000     8.000000   \n50%      10.000000   564.500000  1250.000000  2153.500000    12.000000   \n75%      16.000000   903.000000  1637.750000  3065.500000    16.000000   \nmax      20.000000  1907.000000  1998.000000  3989.000000    19.000000   \n\n              sc_w    talk_time      three_g  touch_screen         wifi  \ncount  1000.000000  1000.000000  1000.000000    1000.00000  1000.000000  \nmean      5.316000    11.085000     0.756000       0.50000     0.507000  \nstd       4.240062     5.497636     0.429708       0.50025     0.500201  \nmin       0.000000     2.000000     0.000000       0.00000     0.000000  \n25%       2.000000     6.750000     1.000000       0.00000     0.000000  \n50%       5.000000    11.000000     1.000000       0.50000     1.000000  \n75%       8.000000    16.000000     1.000000       1.00000     1.000000  \nmax      18.000000    20.000000     1.000000       1.00000     1.000000  \n\n[8 rows x 21 columns]",
      "text/html": "<div>\n<style scoped>\n    .dataframe tbody tr th:only-of-type {\n        vertical-align: middle;\n    }\n\n    .dataframe tbody tr th {\n        vertical-align: top;\n    }\n\n    .dataframe thead th {\n        text-align: right;\n    }\n</style>\n<table border=\"1\" class=\"dataframe\">\n  <thead>\n    <tr style=\"text-align: right;\">\n      <th></th>\n      <th>id</th>\n      <th>battery_power</th>\n      <th>blue</th>\n      <th>clock_speed</th>\n      <th>dual_sim</th>\n      <th>fc</th>\n      <th>four_g</th>\n      <th>int_memory</th>\n      <th>m_dep</th>\n      <th>mobile_wt</th>\n      <th>...</th>\n      <th>pc</th>\n      <th>px_height</th>\n      <th>px_width</th>\n      <th>ram</th>\n      <th>sc_h</th>\n      <th>sc_w</th>\n      <th>talk_time</th>\n      <th>three_g</th>\n      <th>touch_screen</th>\n      <th>wifi</th>\n    </tr>\n  </thead>\n  <tbody>\n    <tr>\n      <th>count</th>\n      <td>1000.000000</td>\n      <td>1000.000000</td>\n      <td>1000.000000</td>\n      <td>1000.000000</td>\n      <td>1000.000000</td>\n      <td>1000.000000</td>\n      <td>1000.000000</td>\n      <td>1000.000000</td>\n      <td>1000.000000</td>\n      <td>1000.00000</td>\n      <td>...</td>\n      <td>1000.000000</td>\n      <td>1000.000000</td>\n      <td>1000.000000</td>\n      <td>1000.000000</td>\n      <td>1000.000000</td>\n      <td>1000.000000</td>\n      <td>1000.000000</td>\n      <td>1000.000000</td>\n      <td>1000.00000</td>\n      <td>1000.000000</td>\n    </tr>\n    <tr>\n      <th>mean</th>\n      <td>500.500000</td>\n      <td>1248.510000</td>\n      <td>0.516000</td>\n      <td>1.540900</td>\n      <td>0.517000</td>\n      <td>4.593000</td>\n      <td>0.487000</td>\n      <td>33.652000</td>\n      <td>0.517500</td>\n      <td>139.51100</td>\n      <td>...</td>\n      <td>10.054000</td>\n      <td>627.121000</td>\n      <td>1239.774000</td>\n      <td>2138.998000</td>\n      <td>11.995000</td>\n      <td>5.316000</td>\n      <td>11.085000</td>\n      <td>0.756000</td>\n      <td>0.50000</td>\n      <td>0.507000</td>\n    </tr>\n    <tr>\n      <th>std</th>\n      <td>288.819436</td>\n      <td>432.458227</td>\n      <td>0.499994</td>\n      <td>0.829268</td>\n      <td>0.499961</td>\n      <td>4.463325</td>\n      <td>0.500081</td>\n      <td>18.128694</td>\n      <td>0.280861</td>\n      <td>34.85155</td>\n      <td>...</td>\n      <td>6.095099</td>\n      <td>432.929699</td>\n      <td>439.670981</td>\n      <td>1088.092278</td>\n      <td>4.320607</td>\n      <td>4.240062</td>\n      <td>5.497636</td>\n      <td>0.429708</td>\n      <td>0.50025</td>\n      <td>0.500201</td>\n    </tr>\n    <tr>\n      <th>min</th>\n      <td>1.000000</td>\n      <td>500.000000</td>\n      <td>0.000000</td>\n      <td>0.500000</td>\n      <td>0.000000</td>\n      <td>0.000000</td>\n      <td>0.000000</td>\n      <td>2.000000</td>\n      <td>0.100000</td>\n      <td>80.00000</td>\n      <td>...</td>\n      <td>0.000000</td>\n      <td>0.000000</td>\n      <td>501.000000</td>\n      <td>263.000000</td>\n      <td>5.000000</td>\n      <td>0.000000</td>\n      <td>2.000000</td>\n      <td>0.000000</td>\n      <td>0.00000</td>\n      <td>0.000000</td>\n    </tr>\n    <tr>\n      <th>25%</th>\n      <td>250.750000</td>\n      <td>895.000000</td>\n      <td>0.000000</td>\n      <td>0.700000</td>\n      <td>0.000000</td>\n      <td>1.000000</td>\n      <td>0.000000</td>\n      <td>18.000000</td>\n      <td>0.300000</td>\n      <td>109.75000</td>\n      <td>...</td>\n      <td>5.000000</td>\n      <td>263.750000</td>\n      <td>831.750000</td>\n      <td>1237.250000</td>\n      <td>8.000000</td>\n      <td>2.000000</td>\n      <td>6.750000</td>\n      <td>1.000000</td>\n      <td>0.00000</td>\n      <td>0.000000</td>\n    </tr>\n    <tr>\n      <th>50%</th>\n      <td>500.500000</td>\n      <td>1246.500000</td>\n      <td>1.000000</td>\n      <td>1.500000</td>\n      <td>1.000000</td>\n      <td>3.000000</td>\n      <td>0.000000</td>\n      <td>34.500000</td>\n      <td>0.500000</td>\n      <td>139.00000</td>\n      <td>...</td>\n      <td>10.000000</td>\n      <td>564.500000</td>\n      <td>1250.000000</td>\n      <td>2153.500000</td>\n      <td>12.000000</td>\n      <td>5.000000</td>\n      <td>11.000000</td>\n      <td>1.000000</td>\n      <td>0.50000</td>\n      <td>1.000000</td>\n    </tr>\n    <tr>\n      <th>75%</th>\n      <td>750.250000</td>\n      <td>1629.250000</td>\n      <td>1.000000</td>\n      <td>2.300000</td>\n      <td>1.000000</td>\n      <td>7.000000</td>\n      <td>1.000000</td>\n      <td>49.000000</td>\n      <td>0.800000</td>\n      <td>170.00000</td>\n      <td>...</td>\n      <td>16.000000</td>\n      <td>903.000000</td>\n      <td>1637.750000</td>\n      <td>3065.500000</td>\n      <td>16.000000</td>\n      <td>8.000000</td>\n      <td>16.000000</td>\n      <td>1.000000</td>\n      <td>1.00000</td>\n      <td>1.000000</td>\n    </tr>\n    <tr>\n      <th>max</th>\n      <td>1000.000000</td>\n      <td>1999.000000</td>\n      <td>1.000000</td>\n      <td>3.000000</td>\n      <td>1.000000</td>\n      <td>19.000000</td>\n      <td>1.000000</td>\n      <td>64.000000</td>\n      <td>1.000000</td>\n      <td>200.00000</td>\n      <td>...</td>\n      <td>20.000000</td>\n      <td>1907.000000</td>\n      <td>1998.000000</td>\n      <td>3989.000000</td>\n      <td>19.000000</td>\n      <td>18.000000</td>\n      <td>20.000000</td>\n      <td>1.000000</td>\n      <td>1.00000</td>\n      <td>1.000000</td>\n    </tr>\n  </tbody>\n</table>\n<p>8 rows × 21 columns</p>\n</div>"
     },
     "execution_count": 7,
     "metadata": {},
     "output_type": "execute_result"
    }
   ],
   "source": [
    "df.describe()"
   ],
   "metadata": {
    "collapsed": false,
    "pycharm": {
     "name": "#%%\n"
    }
   }
  }
 ],
 "metadata": {
  "kernelspec": {
   "display_name": "Python 3",
   "language": "python",
   "name": "python3"
  },
  "language_info": {
   "codemirror_mode": {
    "name": "ipython",
    "version": 2
   },
   "file_extension": ".py",
   "mimetype": "text/x-python",
   "name": "python",
   "nbconvert_exporter": "python",
   "pygments_lexer": "ipython2",
   "version": "2.7.6"
  }
 },
 "nbformat": 4,
 "nbformat_minor": 0
}