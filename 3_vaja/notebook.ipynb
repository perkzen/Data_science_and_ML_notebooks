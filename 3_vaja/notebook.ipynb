{
 "cells": [
  {
   "cell_type": "markdown",
   "source": [
    "## Imports"
   ],
   "metadata": {
    "collapsed": false
   }
  },
  {
   "cell_type": "code",
   "execution_count": 4,
   "outputs": [],
   "source": [
    "import pandas as pd\n",
    "import numpy as np\n",
    "from sklearn import metrics\n",
    "import seaborn as sns\n",
    "import matplotlib.pyplot as plt\n",
    "from sklearn.impute import SimpleImputer\n",
    "from sklearn.model_selection import train_test_split, StratifiedKFold, cross_val_score\n",
    "from sklearn.tree import DecisionTreeClassifier\n",
    "from sklearn.linear_model import LogisticRegression\n",
    "from sklearn.ensemble import RandomForestClassifier, ExtraTreesClassifier, AdaBoostClassifier\n",
    "from sklearn.ensemble import GradientBoostingClassifier\n",
    "from sklearn.svm import LinearSVC\n",
    "from sklearn.neighbors import KNeighborsClassifier\n",
    "from sklearn.naive_bayes import GaussianNB"
   ],
   "metadata": {
    "collapsed": false,
    "pycharm": {
     "name": "#%%\n"
    }
   }
  },
  {
   "cell_type": "markdown",
   "source": [
    "## Create data frame"
   ],
   "metadata": {
    "collapsed": false,
    "pycharm": {
     "name": "#%% md\n"
    }
   }
  },
  {
   "cell_type": "code",
   "execution_count": 5,
   "metadata": {
    "collapsed": true
   },
   "outputs": [],
   "source": [
    "df_uni_rank_2020 = pd.read_csv('university_rank_2020.csv', index_col='University')\n",
    "df_uni_rank = pd.read_csv('university_rank_other.csv', delim_whitespace=True)\n",
    "df_uni_rank_students = pd.read_excel('university_rank_students.xlsx', index_col='University', sheet_name=\"Sheet1\")\n",
    "\n",
    "df = pd.concat([df_uni_rank_2020, df_uni_rank, df_uni_rank_students], axis=1)"
   ]
  },
  {
   "cell_type": "markdown",
   "source": [],
   "metadata": {
    "collapsed": false
   }
  },
  {
   "cell_type": "code",
   "execution_count": 6,
   "outputs": [
    {
     "name": "stdout",
     "output_type": "stream",
     "text": [
      "(1396, 13)\n"
     ]
    }
   ],
   "source": [
    "print(df.shape)"
   ],
   "metadata": {
    "collapsed": false,
    "pycharm": {
     "name": "#%%\n"
    }
   }
  },
  {
   "cell_type": "code",
   "execution_count": 7,
   "outputs": [
    {
     "name": "stdout",
     "output_type": "stream",
     "text": [
      "Country                       object\n",
      "Number_students              float64\n",
      "Numb_students_per_Staff      float64\n",
      "Score_Result                 float64\n",
      "Rank                           int64\n",
      "Teaching                     float64\n",
      "Research                     float64\n",
      "Citations                    float64\n",
      "Industry_Income              float64\n",
      "International_Outlook         object\n",
      "International_Students(%)    float64\n",
      "Percentage_Female(%)         float64\n",
      "Percentage_Male(%)           float64\n",
      "dtype: object\n"
     ]
    }
   ],
   "source": [
    "print(df.dtypes)"
   ],
   "metadata": {
    "collapsed": false,
    "pycharm": {
     "name": "#%%\n"
    }
   }
  },
  {
   "cell_type": "code",
   "execution_count": 8,
   "outputs": [
    {
     "name": "stdout",
     "output_type": "stream",
     "text": [
      "                                              Country  Number_students  \\\n",
      "University of Oxford                   United Kingdom           20.664   \n",
      "California Institute of Technology      United States            2.240   \n",
      "University of Cambridge                United Kingdom           18.978   \n",
      "Stanford University                     United States           16.135   \n",
      "Massachusetts Institute of Technology   United States           11.247   \n",
      "Princeton University                    United States            7.983   \n",
      "Harvard University                      United States           20.823   \n",
      "Yale University                         United States           12.402   \n",
      "University of Chicago                   United States           13.833   \n",
      "Imperial College London                United Kingdom           16.760   \n",
      "\n",
      "                                       Numb_students_per_Staff  Score_Result  \\\n",
      "University of Oxford                                      11.2          95.4   \n",
      "California Institute of Technology                         6.4          94.5   \n",
      "University of Cambridge                                   10.9          94.4   \n",
      "Stanford University                                        7.3          94.3   \n",
      "Massachusetts Institute of Technology                      8.6          93.6   \n",
      "Princeton University                                       8.1          93.2   \n",
      "Harvard University                                         9.2          93.0   \n",
      "Yale University                                            5.4          91.7   \n",
      "University of Chicago                                      5.7          90.2   \n",
      "Imperial College London                                   11.7          89.8   \n",
      "\n",
      "                                       Rank  Teaching  Research  Citations  \\\n",
      "University of Oxford                      1      90.5      99.6       98.4   \n",
      "California Institute of Technology        2      92.1      97.2       97.9   \n",
      "University of Cambridge                   3      91.4      98.7       95.8   \n",
      "Stanford University                       4      92.8      96.4       99.9   \n",
      "Massachusetts Institute of Technology     5      90.5      92.4       99.5   \n",
      "Princeton University                      6      90.3      96.3       98.8   \n",
      "Harvard University                        7      89.2      98.6       99.1   \n",
      "Yale University                           8      92.0      94.8       97.3   \n",
      "University of Chicago                     9      89.1      91.4       96.7   \n",
      "Imperial College London                  10      84.5      87.6       97.0   \n",
      "\n",
      "                                       Industry_Income International_Outlook  \\\n",
      "University of Oxford                              65.5             excellent   \n",
      "California Institute of Technology                88.0             excellent   \n",
      "University of Cambridge                           59.3             excellent   \n",
      "Stanford University                               66.2             excellent   \n",
      "Massachusetts Institute of Technology             86.9             excellent   \n",
      "Princeton University                              58.6             excellent   \n",
      "Harvard University                                47.3             excellent   \n",
      "Yale University                                   52.4             excellent   \n",
      "University of Chicago                             52.7             excellent   \n",
      "Imperial College London                           69.9             excellent   \n",
      "\n",
      "                                       International_Students(%)  \\\n",
      "University of Oxford                                        41.0   \n",
      "California Institute of Technology                          30.0   \n",
      "University of Cambridge                                     37.0   \n",
      "Stanford University                                          NaN   \n",
      "Massachusetts Institute of Technology                       34.0   \n",
      "Princeton University                                        25.0   \n",
      "Harvard University                                          24.0   \n",
      "Yale University                                             20.0   \n",
      "University of Chicago                                       28.0   \n",
      "Imperial College London                                     56.0   \n",
      "\n",
      "                                       Percentage_Female(%)  \\\n",
      "University of Oxford                                   46.0   \n",
      "California Institute of Technology                      NaN   \n",
      "University of Cambridge                                47.0   \n",
      "Stanford University                                    43.0   \n",
      "Massachusetts Institute of Technology                  39.0   \n",
      "Princeton University                                   45.0   \n",
      "Harvard University                                     49.0   \n",
      "Yale University                                         NaN   \n",
      "University of Chicago                                  46.0   \n",
      "Imperial College London                                38.0   \n",
      "\n",
      "                                       Percentage_Male(%)  \n",
      "University of Oxford                                 54.0  \n",
      "California Institute of Technology                   66.0  \n",
      "University of Cambridge                              53.0  \n",
      "Stanford University                                  57.0  \n",
      "Massachusetts Institute of Technology                61.0  \n",
      "Princeton University                                 55.0  \n",
      "Harvard University                                   51.0  \n",
      "Yale University                                       NaN  \n",
      "University of Chicago                                54.0  \n",
      "Imperial College London                              62.0  \n"
     ]
    }
   ],
   "source": [
    "print(df.head(10))"
   ],
   "metadata": {
    "collapsed": false,
    "pycharm": {
     "name": "#%%\n"
    }
   }
  },
  {
   "cell_type": "code",
   "execution_count": 9,
   "outputs": [
    {
     "name": "stdout",
     "output_type": "stream",
     "text": [
      "Country                       0\n",
      "Number_students               0\n",
      "Numb_students_per_Staff       0\n",
      "Score_Result                  0\n",
      "Rank                          0\n",
      "Teaching                      0\n",
      "Research                      0\n",
      "Citations                     0\n",
      "Industry_Income               0\n",
      "International_Outlook        11\n",
      "International_Students(%)    38\n",
      "Percentage_Female(%)         36\n",
      "Percentage_Male(%)           27\n",
      "dtype: int64\n"
     ]
    }
   ],
   "source": [
    "print(df.isnull().sum())"
   ],
   "metadata": {
    "collapsed": false,
    "pycharm": {
     "name": "#%%\n"
    }
   }
  },
  {
   "cell_type": "markdown",
   "source": [
    "# Clean dataset"
   ],
   "metadata": {
    "collapsed": false
   }
  },
  {
   "cell_type": "markdown",
   "source": [
    "Fill NaN values with column average on numeric columns"
   ],
   "metadata": {
    "collapsed": false
   }
  },
  {
   "cell_type": "code",
   "execution_count": 10,
   "outputs": [
    {
     "name": "stdout",
     "output_type": "stream",
     "text": [
      "Country                       0\n",
      "Number_students               0\n",
      "Numb_students_per_Staff       0\n",
      "Score_Result                  0\n",
      "Rank                          0\n",
      "Teaching                      0\n",
      "Research                      0\n",
      "Citations                     0\n",
      "Industry_Income               0\n",
      "International_Outlook        11\n",
      "International_Students(%)     0\n",
      "Percentage_Female(%)          0\n",
      "Percentage_Male(%)            0\n",
      "dtype: int64\n"
     ]
    }
   ],
   "source": [
    "numeric_columns = df.select_dtypes(np.number).columns\n",
    "imp = SimpleImputer(missing_values=np.nan, strategy='mean')\n",
    "df[numeric_columns] = imp.fit_transform(df[numeric_columns])\n",
    "\n",
    "print(df.isnull().sum())"
   ],
   "metadata": {
    "collapsed": false,
    "pycharm": {
     "name": "#%%\n"
    }
   }
  },
  {
   "cell_type": "markdown",
   "source": [
    "Fill NaN with most frequent on non-numeric columns"
   ],
   "metadata": {
    "collapsed": false
   }
  },
  {
   "cell_type": "code",
   "execution_count": 11,
   "outputs": [
    {
     "name": "stdout",
     "output_type": "stream",
     "text": [
      "Country                      0\n",
      "Number_students              0\n",
      "Numb_students_per_Staff      0\n",
      "Score_Result                 0\n",
      "Rank                         0\n",
      "Teaching                     0\n",
      "Research                     0\n",
      "Citations                    0\n",
      "Industry_Income              0\n",
      "International_Outlook        0\n",
      "International_Students(%)    0\n",
      "Percentage_Female(%)         0\n",
      "Percentage_Male(%)           0\n",
      "dtype: int64\n"
     ]
    }
   ],
   "source": [
    "categoric_columns = df.select_dtypes(object).columns\n",
    "imp = SimpleImputer(missing_values=np.nan, strategy='most_frequent')\n",
    "df[categoric_columns] = imp.fit_transform(df[categoric_columns])\n",
    "\n",
    "print(df.isnull().sum())"
   ],
   "metadata": {
    "collapsed": false,
    "pycharm": {
     "name": "#%%\n"
    }
   }
  },
  {
   "cell_type": "markdown",
   "source": [
    "Save df to .csv"
   ],
   "metadata": {
    "collapsed": false
   }
  },
  {
   "cell_type": "code",
   "execution_count": 12,
   "outputs": [],
   "source": [
    "df.to_csv(\"university_rank_no_nan.csv\", sep=';', decimal='.', encoding='utf-8')"
   ],
   "metadata": {
    "collapsed": false,
    "pycharm": {
     "name": "#%%\n"
    }
   }
  },
  {
   "cell_type": "markdown",
   "source": [
    "## Divide df to train and test datasets"
   ],
   "metadata": {
    "collapsed": false
   }
  },
  {
   "cell_type": "markdown",
   "source": [
    "   - dataset should only contain numeric values\n",
    "   - we will predict \"International outlook\" column"
   ],
   "metadata": {
    "collapsed": false
   }
  },
  {
   "cell_type": "code",
   "execution_count": 13,
   "outputs": [
    {
     "name": "stdout",
     "output_type": "stream",
     "text": [
      "                                       Number_students  \\\n",
      "University of Oxford                            20.664   \n",
      "California Institute of Technology               2.240   \n",
      "University of Cambridge                         18.978   \n",
      "Stanford University                             16.135   \n",
      "Massachusetts Institute of Technology           11.247   \n",
      "\n",
      "                                       Numb_students_per_Staff  Score_Result  \\\n",
      "University of Oxford                                      11.2          95.4   \n",
      "California Institute of Technology                         6.4          94.5   \n",
      "University of Cambridge                                   10.9          94.4   \n",
      "Stanford University                                        7.3          94.3   \n",
      "Massachusetts Institute of Technology                      8.6          93.6   \n",
      "\n",
      "                                       Rank  Teaching  Research  Citations  \\\n",
      "University of Oxford                    1.0      90.5      99.6       98.4   \n",
      "California Institute of Technology      2.0      92.1      97.2       97.9   \n",
      "University of Cambridge                 3.0      91.4      98.7       95.8   \n",
      "Stanford University                     4.0      92.8      96.4       99.9   \n",
      "Massachusetts Institute of Technology   5.0      90.5      92.4       99.5   \n",
      "\n",
      "                                       Industry_Income  \\\n",
      "University of Oxford                              65.5   \n",
      "California Institute of Technology                88.0   \n",
      "University of Cambridge                           59.3   \n",
      "Stanford University                               66.2   \n",
      "Massachusetts Institute of Technology             86.9   \n",
      "\n",
      "                                       International_Students(%)  \\\n",
      "University of Oxford                                   41.000000   \n",
      "California Institute of Technology                     30.000000   \n",
      "University of Cambridge                                37.000000   \n",
      "Stanford University                                    11.086892   \n",
      "Massachusetts Institute of Technology                  34.000000   \n",
      "\n",
      "                                       Percentage_Female(%)  \\\n",
      "University of Oxford                              46.000000   \n",
      "California Institute of Technology                47.583088   \n",
      "University of Cambridge                           47.000000   \n",
      "Stanford University                               43.000000   \n",
      "Massachusetts Institute of Technology             39.000000   \n",
      "\n",
      "                                       Percentage_Male(%)  \n",
      "University of Oxford                                 54.0  \n",
      "California Institute of Technology                   66.0  \n",
      "University of Cambridge                              53.0  \n",
      "Stanford University                                  57.0  \n",
      "Massachusetts Institute of Technology                61.0  \n"
     ]
    }
   ],
   "source": [
    "X = df[numeric_columns]\n",
    "y = df[\"International_Outlook\"]\n",
    "print(X.head())"
   ],
   "metadata": {
    "collapsed": false,
    "pycharm": {
     "name": "#%%\n"
    }
   }
  },
  {
   "cell_type": "code",
   "execution_count": 14,
   "outputs": [],
   "source": [
    "x_train, x_test, y_train, y_test = train_test_split(X, y, test_size=0.3, random_state=789)"
   ],
   "metadata": {
    "collapsed": false,
    "pycharm": {
     "name": "#%%\n"
    }
   }
  },
  {
   "cell_type": "markdown",
   "source": [
    "# Decision tree classifier"
   ],
   "metadata": {
    "collapsed": false
   }
  },
  {
   "cell_type": "markdown",
   "source": [
    "- print first 4 predictions\n",
    "- print model accuracy"
   ],
   "metadata": {
    "collapsed": false
   }
  },
  {
   "cell_type": "code",
   "execution_count": 15,
   "outputs": [
    {
     "name": "stdout",
     "output_type": "stream",
     "text": [
      "['bad' 'bad' 'good' 'bad']\n",
      "Accuracy:  0.9928400954653938\n"
     ]
    }
   ],
   "source": [
    "model = DecisionTreeClassifier()\n",
    "model.fit(x_train, y_train)\n",
    "predictions = model.predict(x_test)\n",
    "print(predictions[:4])\n",
    "print(\"Accuracy: \", metrics.accuracy_score(predictions, y_test))"
   ],
   "metadata": {
    "collapsed": false,
    "pycharm": {
     "name": "#%%\n"
    }
   }
  },
  {
   "cell_type": "markdown",
   "source": [
    "# Prediction accuracy metrics"
   ],
   "metadata": {
    "collapsed": false
   }
  },
  {
   "cell_type": "markdown",
   "source": [
    "### Precision\n",
    "The precision is the ratio tp / (tp + fp) where tp is the number of true positives and fp the number of false positives.\n",
    "The precision is intuitively the ability of the classifier not to label as positive a sample that is negative. The best value is 1 and the worst value is 0."
   ],
   "metadata": {
    "collapsed": false
   }
  },
  {
   "cell_type": "code",
   "execution_count": 16,
   "outputs": [
    {
     "name": "stdout",
     "output_type": "stream",
     "text": [
      "Precision: 0.9928400954653938\n"
     ]
    }
   ],
   "source": [
    "print('Precision:', metrics.precision_score(predictions, y_test, average='micro'))"
   ],
   "metadata": {
    "collapsed": false,
    "pycharm": {
     "name": "#%%\n"
    }
   }
  },
  {
   "cell_type": "markdown",
   "source": [
    "### Recall\n",
    "Recall score is used to measure the model performance in terms of measuring the count of true positives in a correct manner out of all the actual positive values. Precision-Recall score is a useful measure of success of prediction when the classes are very imbalanced."
   ],
   "metadata": {
    "collapsed": false
   }
  },
  {
   "cell_type": "code",
   "execution_count": 17,
   "outputs": [
    {
     "name": "stdout",
     "output_type": "stream",
     "text": [
      "Recall: 0.9928400954653938\n"
     ]
    }
   ],
   "source": [
    "print('Recall:', metrics.recall_score(predictions, y_test, average='micro'))"
   ],
   "metadata": {
    "collapsed": false,
    "pycharm": {
     "name": "#%%\n"
    }
   }
  },
  {
   "cell_type": "markdown",
   "source": [
    "## F1-score\n",
    "The F1-score combines the precision and recall of a classifier into a single metric by taking their harmonic mean. It is primarily used to compare the performance of two classifiers. Suppose that classifier A has a higher recall, and classifier B has higher precision."
   ],
   "metadata": {
    "collapsed": false
   }
  },
  {
   "cell_type": "code",
   "execution_count": 18,
   "outputs": [
    {
     "name": "stdout",
     "output_type": "stream",
     "text": [
      "F1-score: 0.9928400954653938\n"
     ]
    }
   ],
   "source": [
    "print('F1-score:', metrics.f1_score(predictions, y_test, average='micro'))"
   ],
   "metadata": {
    "collapsed": false,
    "pycharm": {
     "name": "#%%\n"
    }
   }
  },
  {
   "cell_type": "markdown",
   "source": [
    "## Graph to show relationship between International_Outlook and Teaching values"
   ],
   "metadata": {
    "collapsed": false
   }
  },
  {
   "cell_type": "code",
   "execution_count": 19,
   "outputs": [
    {
     "name": "stdout",
     "output_type": "stream",
     "text": [
      "<seaborn.axisgrid.FacetGrid object at 0x1085973a0>\n"
     ]
    },
    {
     "data": {
      "text/plain": "<Figure size 500x500 with 1 Axes>",
      "image/png": "[encoded data removed]"
     },
     "metadata": {},
     "output_type": "display_data"
    }
   ],
   "source": [
    "print(sns.catplot(x=\"International_Outlook\", y=\"Teaching\", data=df))"
   ],
   "metadata": {
    "collapsed": false,
    "pycharm": {
     "name": "#%%\n"
    }
   }
  },
  {
   "cell_type": "markdown",
   "source": [
    "# Repeat the same process but without Teaching column"
   ],
   "metadata": {
    "collapsed": false
   }
  },
  {
   "cell_type": "code",
   "execution_count": 20,
   "outputs": [
    {
     "name": "stdout",
     "output_type": "stream",
     "text": [
      "Accuracy:  0.7923627684964201\n"
     ]
    }
   ],
   "source": [
    "columns_list = numeric_columns.values.tolist()\n",
    "columns_list.pop(4)\n",
    "\n",
    "X = df[columns_list]\n",
    "y = df[\"International_Outlook\"]\n",
    "\n",
    "x_train, x_test, y_train, y_test = train_test_split(X, y, test_size=0.3, random_state=789)\n",
    "\n",
    "model = DecisionTreeClassifier()\n",
    "model.fit(x_train, y_train)\n",
    "predictions = model.predict(x_test)\n",
    "print(\"Accuracy: \", metrics.accuracy_score(predictions, y_test))"
   ],
   "metadata": {
    "collapsed": false,
    "pycharm": {
     "name": "#%%\n"
    }
   }
  },
  {
   "cell_type": "markdown",
   "source": [
    "# Using K-fold validation and other classifiers"
   ],
   "metadata": {
    "collapsed": false,
    "pycharm": {
     "name": "#%% md\n"
    }
   }
  },
  {
   "cell_type": "code",
   "execution_count": 21,
   "outputs": [
    {
     "name": "stdout",
     "output_type": "stream",
     "text": [
      "        DecisionTreeClassifier: 0.9950\n",
      "            LogisticRegression: 0.9671\n"
     ]
    },
    {
     "name": "stderr",
     "output_type": "stream",
     "text": [
      "/opt/homebrew/Caskroom/miniforge/base/envs/env_ml/lib/python3.10/site-packages/sklearn/linear_model/_logistic.py:444: ConvergenceWarning: lbfgs failed to converge (status=1):\n",
      "STOP: TOTAL NO. of ITERATIONS REACHED LIMIT.\n",
      "\n",
      "Increase the number of iterations (max_iter) or scale the data as shown in:\n",
      "    https://scikit-learn.org/stable/modules/preprocessing.html\n",
      "Please also refer to the documentation for alternative solver options:\n",
      "    https://scikit-learn.org/stable/modules/linear_model.html#logistic-regression\n",
      "  n_iter_i = _check_optimize_result(\n",
      "/opt/homebrew/Caskroom/miniforge/base/envs/env_ml/lib/python3.10/site-packages/sklearn/linear_model/_logistic.py:444: ConvergenceWarning: lbfgs failed to converge (status=1):\n",
      "STOP: TOTAL NO. of ITERATIONS REACHED LIMIT.\n",
      "\n",
      "Increase the number of iterations (max_iter) or scale the data as shown in:\n",
      "    https://scikit-learn.org/stable/modules/preprocessing.html\n",
      "Please also refer to the documentation for alternative solver options:\n",
      "    https://scikit-learn.org/stable/modules/linear_model.html#logistic-regression\n",
      "  n_iter_i = _check_optimize_result(\n",
      "/opt/homebrew/Caskroom/miniforge/base/envs/env_ml/lib/python3.10/site-packages/sklearn/linear_model/_logistic.py:444: ConvergenceWarning: lbfgs failed to converge (status=1):\n",
      "STOP: TOTAL NO. of ITERATIONS REACHED LIMIT.\n",
      "\n",
      "Increase the number of iterations (max_iter) or scale the data as shown in:\n",
      "    https://scikit-learn.org/stable/modules/preprocessing.html\n",
      "Please also refer to the documentation for alternative solver options:\n",
      "    https://scikit-learn.org/stable/modules/linear_model.html#logistic-regression\n",
      "  n_iter_i = _check_optimize_result(\n",
      "/opt/homebrew/Caskroom/miniforge/base/envs/env_ml/lib/python3.10/site-packages/sklearn/linear_model/_logistic.py:444: ConvergenceWarning: lbfgs failed to converge (status=1):\n",
      "STOP: TOTAL NO. of ITERATIONS REACHED LIMIT.\n",
      "\n",
      "Increase the number of iterations (max_iter) or scale the data as shown in:\n",
      "    https://scikit-learn.org/stable/modules/preprocessing.html\n",
      "Please also refer to the documentation for alternative solver options:\n",
      "    https://scikit-learn.org/stable/modules/linear_model.html#logistic-regression\n",
      "  n_iter_i = _check_optimize_result(\n",
      "/opt/homebrew/Caskroom/miniforge/base/envs/env_ml/lib/python3.10/site-packages/sklearn/linear_model/_logistic.py:444: ConvergenceWarning: lbfgs failed to converge (status=1):\n",
      "STOP: TOTAL NO. of ITERATIONS REACHED LIMIT.\n",
      "\n",
      "Increase the number of iterations (max_iter) or scale the data as shown in:\n",
      "    https://scikit-learn.org/stable/modules/preprocessing.html\n",
      "Please also refer to the documentation for alternative solver options:\n",
      "    https://scikit-learn.org/stable/modules/linear_model.html#logistic-regression\n",
      "  n_iter_i = _check_optimize_result(\n",
      "/opt/homebrew/Caskroom/miniforge/base/envs/env_ml/lib/python3.10/site-packages/sklearn/linear_model/_logistic.py:444: ConvergenceWarning: lbfgs failed to converge (status=1):\n",
      "STOP: TOTAL NO. of ITERATIONS REACHED LIMIT.\n",
      "\n",
      "Increase the number of iterations (max_iter) or scale the data as shown in:\n",
      "    https://scikit-learn.org/stable/modules/preprocessing.html\n",
      "Please also refer to the documentation for alternative solver options:\n",
      "    https://scikit-learn.org/stable/modules/linear_model.html#logistic-regression\n",
      "  n_iter_i = _check_optimize_result(\n",
      "/opt/homebrew/Caskroom/miniforge/base/envs/env_ml/lib/python3.10/site-packages/sklearn/linear_model/_logistic.py:444: ConvergenceWarning: lbfgs failed to converge (status=1):\n",
      "STOP: TOTAL NO. of ITERATIONS REACHED LIMIT.\n",
      "\n",
      "Increase the number of iterations (max_iter) or scale the data as shown in:\n",
      "    https://scikit-learn.org/stable/modules/preprocessing.html\n",
      "Please also refer to the documentation for alternative solver options:\n",
      "    https://scikit-learn.org/stable/modules/linear_model.html#logistic-regression\n",
      "  n_iter_i = _check_optimize_result(\n",
      "/opt/homebrew/Caskroom/miniforge/base/envs/env_ml/lib/python3.10/site-packages/sklearn/linear_model/_logistic.py:444: ConvergenceWarning: lbfgs failed to converge (status=1):\n",
      "STOP: TOTAL NO. of ITERATIONS REACHED LIMIT.\n",
      "\n",
      "Increase the number of iterations (max_iter) or scale the data as shown in:\n",
      "    https://scikit-learn.org/stable/modules/preprocessing.html\n",
      "Please also refer to the documentation for alternative solver options:\n",
      "    https://scikit-learn.org/stable/modules/linear_model.html#logistic-regression\n",
      "  n_iter_i = _check_optimize_result(\n",
      "/opt/homebrew/Caskroom/miniforge/base/envs/env_ml/lib/python3.10/site-packages/sklearn/svm/_base.py:1225: ConvergenceWarning: Liblinear failed to converge, increase the number of iterations.\n",
      "  warnings.warn(\n",
      "/opt/homebrew/Caskroom/miniforge/base/envs/env_ml/lib/python3.10/site-packages/sklearn/svm/_base.py:1225: ConvergenceWarning: Liblinear failed to converge, increase the number of iterations.\n",
      "  warnings.warn(\n",
      "/opt/homebrew/Caskroom/miniforge/base/envs/env_ml/lib/python3.10/site-packages/sklearn/svm/_base.py:1225: ConvergenceWarning: Liblinear failed to converge, increase the number of iterations.\n",
      "  warnings.warn(\n",
      "/opt/homebrew/Caskroom/miniforge/base/envs/env_ml/lib/python3.10/site-packages/sklearn/svm/_base.py:1225: ConvergenceWarning: Liblinear failed to converge, increase the number of iterations.\n",
      "  warnings.warn(\n",
      "/opt/homebrew/Caskroom/miniforge/base/envs/env_ml/lib/python3.10/site-packages/sklearn/svm/_base.py:1225: ConvergenceWarning: Liblinear failed to converge, increase the number of iterations.\n",
      "  warnings.warn(\n",
      "/opt/homebrew/Caskroom/miniforge/base/envs/env_ml/lib/python3.10/site-packages/sklearn/svm/_base.py:1225: ConvergenceWarning: Liblinear failed to converge, increase the number of iterations.\n",
      "  warnings.warn(\n",
      "/opt/homebrew/Caskroom/miniforge/base/envs/env_ml/lib/python3.10/site-packages/sklearn/svm/_base.py:1225: ConvergenceWarning: Liblinear failed to converge, increase the number of iterations.\n",
      "  warnings.warn(\n",
      "/opt/homebrew/Caskroom/miniforge/base/envs/env_ml/lib/python3.10/site-packages/sklearn/svm/_base.py:1225: ConvergenceWarning: Liblinear failed to converge, increase the number of iterations.\n",
      "  warnings.warn(\n"
     ]
    },
    {
     "name": "stdout",
     "output_type": "stream",
     "text": [
      "                     LinearSVC: 0.9026\n",
      "          KNeighborsClassifier: 0.8582\n",
      "                    GaussianNB: 0.8453\n",
      "        RandomForestClassifier: 0.9950\n",
      "          ExtraTreesClassifier: 0.9699\n",
      "            AdaBoostClassifier: 0.9928\n",
      "    GradientBoostingClassifier: 0.9957\n"
     ]
    }
   ],
   "source": [
    "classifiers = [DecisionTreeClassifier(), LogisticRegression(), LinearSVC(), KNeighborsClassifier(), GaussianNB(),\n",
    "               RandomForestClassifier(), ExtraTreesClassifier(), AdaBoostClassifier(), GradientBoostingClassifier()]\n",
    "\n",
    "numeric_columns = df.select_dtypes(include=np.number).columns.tolist()\n",
    "accuracy = {}\n",
    "for model in classifiers:\n",
    "    kfold = StratifiedKFold(n_splits=8, random_state=123, shuffle=True)\n",
    "    predictions = cross_val_score(model, df[numeric_columns], y, cv=kfold, scoring='accuracy')\n",
    "    accuracy[type(model).__name__] = predictions.mean()\n",
    "    print(f'{type(model).__name__ : >30}: {predictions.mean():1.4f}')"
   ],
   "metadata": {
    "collapsed": false,
    "pycharm": {
     "name": "#%%\n"
    }
   }
  },
  {
   "cell_type": "code",
   "execution_count": 22,
   "outputs": [
    {
     "name": "stdout",
     "output_type": "stream",
     "text": [
      "AxesSubplot(0.125,0.11;0.775x0.77)\n"
     ]
    },
    {
     "data": {
      "text/plain": "(array([0, 1, 2, 3, 4, 5, 6, 7, 8]),\n [Text(0, 0, 'DecisionTreeClassifier'),\n  Text(1, 0, 'LogisticRegression'),\n  Text(2, 0, 'LinearSVC'),\n  Text(3, 0, 'KNeighborsClassifier'),\n  Text(4, 0, 'GaussianNB'),\n  Text(5, 0, 'RandomForestClassifier'),\n  Text(6, 0, 'ExtraTreesClassifier'),\n  Text(7, 0, 'AdaBoostClassifier'),\n  Text(8, 0, 'GradientBoostingClassifier')])"
     },
     "execution_count": 22,
     "metadata": {},
     "output_type": "execute_result"
    },
    {
     "data": {
      "text/plain": "<Figure size 640x480 with 1 Axes>",
      "image/png": "[encoded data removed]"
     },
     "metadata": {},
     "output_type": "display_data"
    }
   ],
   "source": [
    "accuracy = pd.DataFrame(accuracy, index=['i', ])\n",
    "print(sns.barplot(data=accuracy))\n",
    "plt.xticks(rotation=90)"
   ],
   "metadata": {
    "collapsed": false,
    "pycharm": {
     "name": "#%%\n"
    }
   }
  }
 ],
 "metadata": {
  "kernelspec": {
   "display_name": "Python 3",
   "language": "python",
   "name": "python3"
  },
  "language_info": {
   "codemirror_mode": {
    "name": "ipython",
    "version": 2
   },
   "file_extension": ".py",
   "mimetype": "text/x-python",
   "name": "python",
   "nbconvert_exporter": "python",
   "pygments_lexer": "ipython2",
   "version": "2.7.6"
  }
 },
 "nbformat": 4,
 "nbformat_minor": 0
}