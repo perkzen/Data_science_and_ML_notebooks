{
 "cells": [
  {
   "cell_type": "markdown",
   "source": [
    "# Introduction\n",
    "### What is League of Legends?\n",
    "- League of Legends is a team-based strategy game where two teams of five powerful champions face off to destroy the other's base.\n",
    "### Goal\n",
    "- We want to predict which team will win based on key information that can affect the win or loss in the game.\n"
   ],
   "metadata": {
    "collapsed": false
   }
  },
  {
   "cell_type": "markdown",
   "source": [
    "# About dataset\n",
    "### Contents\n",
    "- 26904 Challenger tier ranked games\n",
    "- 65896 Grandmaster tier ranked games\n",
    "- 107125 Master tier ranked games\n",
    "- Data includes <b>Blue team <b> and <b>Red team</b> information\n",
    "- Data contains key information that can affect the win or loss in the game\n",
    "- League of Legends includes objects, champions and minions\n",
    "- The heart of the data is the result of the match between the blue and red team.\n",
    "- Therefore, the factor analysis that affects the win or loss of the game and the methodology to predict the win or loss of the game will be the most important points in analyzing the data.\n",
    "\n",
    "### Additional data description\n",
    "- Ward : Map lighting tools\n",
    "- Gold : Money to buy items\n",
    "- Tower : Attack turrets protecting our camp or enemy camp\n",
    "- Inhibitors : You can summon our team's superminions(very very powerful) by breaking the suppressor.\n",
    "- Dragon, baron : Objects that can receive buffs when destroyed\n",
    "- Minion : Small summoners from each team who can earn gold by killing\n",
    "- Level : champion level (min : LVL 1 / max : LVL 18)"
   ],
   "metadata": {
    "collapsed": false
   }
  },
  {
   "cell_type": "markdown",
   "source": [
    "### Prepare data\n",
    "Combine all 3 csv into one dataframe."
   ],
   "metadata": {
    "collapsed": false
   }
  },
  {
   "cell_type": "code",
   "execution_count": 45,
   "metadata": {
    "collapsed": true
   },
   "outputs": [
    {
     "data": {
      "text/plain": "       gameId  gameDuraton  blueWins  blueFirstBlood  blueFirstTower  \\\n0  4247263043         1323         0               1               0   \n1  4247155821         1317         1               0               0   \n2  4243963257          932         0               0               0   \n3  4241678498         2098         0               0               0   \n4  4241538868         2344         1               1               1   \n\n   blueFirstBaron  blueFirstDragon  blueFirstInhibitor  blueDragonKills  \\\n0               0                0                   0                0   \n1               0                1                   0                2   \n2               0                0                   0                0   \n3               1                1                   0                1   \n4               1                1                   1                2   \n\n   blueBaronKills  ...  redAssist  redChampionDamageDealt  redTotalGold  \\\n0               0  ...         68                   73016         49832   \n1               0  ...          8                   44218         37136   \n2               0  ...         20                   30797         35364   \n3               1  ...         72                  125866         70528   \n4               2  ...         83                  131536         74596   \n\n   redTotalMinionKills  redTotalLevel  redAvgLevel  redJungleMinionKills  \\\n0                  533             64         12.8                   138   \n1                  571             59         11.8                   134   \n2                  400             50         10.0                    89   \n3                  832             84         16.8                   205   \n4                  794             85         17.0                   227   \n\n   redKillingSpree  redTotalHeal  redObjectDamageDealt  \n0                8         38711                 60463  \n1                3         24829                 14105  \n2                5         12589                 45201  \n3                9         65312                 88202  \n4                7         86431                 64141  \n\n[5 rows x 50 columns]",
      "text/html": "<div>\n<style scoped>\n    .dataframe tbody tr th:only-of-type {\n        vertical-align: middle;\n    }\n\n    .dataframe tbody tr th {\n        vertical-align: top;\n    }\n\n    .dataframe thead th {\n        text-align: right;\n    }\n</style>\n<table border=\"1\" class=\"dataframe\">\n  <thead>\n    <tr style=\"text-align: right;\">\n      <th></th>\n      <th>gameId</th>\n      <th>gameDuraton</th>\n      <th>blueWins</th>\n      <th>blueFirstBlood</th>\n      <th>blueFirstTower</th>\n      <th>blueFirstBaron</th>\n      <th>blueFirstDragon</th>\n      <th>blueFirstInhibitor</th>\n      <th>blueDragonKills</th>\n      <th>blueBaronKills</th>\n      <th>...</th>\n      <th>redAssist</th>\n      <th>redChampionDamageDealt</th>\n      <th>redTotalGold</th>\n      <th>redTotalMinionKills</th>\n      <th>redTotalLevel</th>\n      <th>redAvgLevel</th>\n      <th>redJungleMinionKills</th>\n      <th>redKillingSpree</th>\n      <th>redTotalHeal</th>\n      <th>redObjectDamageDealt</th>\n    </tr>\n  </thead>\n  <tbody>\n    <tr>\n      <th>0</th>\n      <td>4247263043</td>\n      <td>1323</td>\n      <td>0</td>\n      <td>1</td>\n      <td>0</td>\n      <td>0</td>\n      <td>0</td>\n      <td>0</td>\n      <td>0</td>\n      <td>0</td>\n      <td>...</td>\n      <td>68</td>\n      <td>73016</td>\n      <td>49832</td>\n      <td>533</td>\n      <td>64</td>\n      <td>12.8</td>\n      <td>138</td>\n      <td>8</td>\n      <td>38711</td>\n      <td>60463</td>\n    </tr>\n    <tr>\n      <th>1</th>\n      <td>4247155821</td>\n      <td>1317</td>\n      <td>1</td>\n      <td>0</td>\n      <td>0</td>\n      <td>0</td>\n      <td>1</td>\n      <td>0</td>\n      <td>2</td>\n      <td>0</td>\n      <td>...</td>\n      <td>8</td>\n      <td>44218</td>\n      <td>37136</td>\n      <td>571</td>\n      <td>59</td>\n      <td>11.8</td>\n      <td>134</td>\n      <td>3</td>\n      <td>24829</td>\n      <td>14105</td>\n    </tr>\n    <tr>\n      <th>2</th>\n      <td>4243963257</td>\n      <td>932</td>\n      <td>0</td>\n      <td>0</td>\n      <td>0</td>\n      <td>0</td>\n      <td>0</td>\n      <td>0</td>\n      <td>0</td>\n      <td>0</td>\n      <td>...</td>\n      <td>20</td>\n      <td>30797</td>\n      <td>35364</td>\n      <td>400</td>\n      <td>50</td>\n      <td>10.0</td>\n      <td>89</td>\n      <td>5</td>\n      <td>12589</td>\n      <td>45201</td>\n    </tr>\n    <tr>\n      <th>3</th>\n      <td>4241678498</td>\n      <td>2098</td>\n      <td>0</td>\n      <td>0</td>\n      <td>0</td>\n      <td>1</td>\n      <td>1</td>\n      <td>0</td>\n      <td>1</td>\n      <td>1</td>\n      <td>...</td>\n      <td>72</td>\n      <td>125866</td>\n      <td>70528</td>\n      <td>832</td>\n      <td>84</td>\n      <td>16.8</td>\n      <td>205</td>\n      <td>9</td>\n      <td>65312</td>\n      <td>88202</td>\n    </tr>\n    <tr>\n      <th>4</th>\n      <td>4241538868</td>\n      <td>2344</td>\n      <td>1</td>\n      <td>1</td>\n      <td>1</td>\n      <td>1</td>\n      <td>1</td>\n      <td>1</td>\n      <td>2</td>\n      <td>2</td>\n      <td>...</td>\n      <td>83</td>\n      <td>131536</td>\n      <td>74596</td>\n      <td>794</td>\n      <td>85</td>\n      <td>17.0</td>\n      <td>227</td>\n      <td>7</td>\n      <td>86431</td>\n      <td>64141</td>\n    </tr>\n  </tbody>\n</table>\n<p>5 rows × 50 columns</p>\n</div>"
     },
     "execution_count": 45,
     "metadata": {},
     "output_type": "execute_result"
    }
   ],
   "source": [
    "import pandas as pd\n",
    "\n",
    "challenger_games = pd.read_csv(\"data/Challenger_Ranked_Games.csv\", delimiter=\",\")\n",
    "grandmaster_games = pd.read_csv(\"data/GrandMaster_Ranked_Games.csv\", delimiter=\",\")\n",
    "master_games = pd.read_csv(\"data/Master_Ranked_Games.csv\", delimiter=\",\")\n",
    "\n",
    "df = pd.concat([challenger_games, grandmaster_games, master_games], axis=0)\n",
    "df.head()"
   ]
  },
  {
   "cell_type": "code",
   "execution_count": 46,
   "outputs": [
    {
     "name": "stdout",
     "output_type": "stream",
     "text": [
      "Number of rows:  199925\n",
      "Number of columns:  50\n"
     ]
    }
   ],
   "source": [
    "print(\"Number of rows: \", df.shape[0])\n",
    "print(\"Number of columns: \", df.shape[1])"
   ],
   "metadata": {
    "collapsed": false,
    "pycharm": {
     "name": "#%%\n"
    }
   }
  },
  {
   "cell_type": "markdown",
   "source": [
    "Description of our data."
   ],
   "metadata": {
    "collapsed": false
   }
  },
  {
   "cell_type": "code",
   "execution_count": 47,
   "outputs": [
    {
     "data": {
      "text/plain": "             gameId    gameDuraton       blueWins  blueFirstBlood  \\\ncount  1.999250e+05  199925.000000  199925.000000   199925.000000   \nmean   4.165346e+09    1433.434008       0.495956        0.506535   \nstd    9.232801e+07     432.490237       0.499985        0.499959   \nmin    3.163679e+09     132.000000       0.000000        0.000000   \n25%    4.136114e+09    1125.000000       0.000000        0.000000   \n50%    4.191588e+09    1420.000000       0.000000        1.000000   \n75%    4.222887e+09    1732.000000       1.000000        1.000000   \nmax    4.261026e+09    3758.000000       1.000000        1.000000   \n\n       blueFirstTower  blueFirstBaron  blueFirstDragon  blueFirstInhibitor  \\\ncount   199925.000000   199925.000000    199925.000000       199925.000000   \nmean         0.515863        0.236684         0.403616            0.382794   \nstd          0.499750        0.425048         0.490623            0.486070   \nmin          0.000000        0.000000         0.000000            0.000000   \n25%          0.000000        0.000000         0.000000            0.000000   \n50%          1.000000        0.000000         0.000000            0.000000   \n75%          1.000000        0.000000         1.000000            1.000000   \nmax          1.000000        1.000000         1.000000            1.000000   \n\n       blueDragonKills  blueBaronKills  ...      redAssist  \\\ncount    199925.000000   199925.000000  ...  199925.000000   \nmean          1.356744        0.297737  ...      40.247978   \nstd           1.254504        0.535042  ...      29.041446   \nmin           0.000000        0.000000  ...       0.000000   \n25%           0.000000        0.000000  ...      20.000000   \n50%           1.000000        0.000000  ...      35.000000   \n75%           2.000000        1.000000  ...      54.000000   \nmax           7.000000        4.000000  ...     229.000000   \n\n       redChampionDamageDealt   redTotalGold  redTotalMinionKills  \\\ncount           199925.000000  199925.000000        199925.000000   \nmean             69241.998725   48022.229046           505.554458   \nstd              37440.925824   16271.618084           181.302212   \nmin                  0.000000       0.000000             0.000000   \n25%              41312.000000   36472.000000           386.000000   \n50%              64284.000000   48029.000000           522.000000   \n75%              90679.000000   59101.000000           631.000000   \nmax             359184.000000  141692.000000          1443.000000   \n\n       redTotalLevel    redAvgLevel  redJungleMinionKills  redKillingSpree  \\\ncount  199925.000000  199925.000000         199925.000000    199925.000000   \nmean       64.914903      12.982981            125.729318         5.682716   \nstd        14.953548       2.990710             66.887707         3.633332   \nmin         0.000000       0.000000              0.000000         0.000000   \n25%        55.000000      11.000000             84.000000         3.000000   \n50%        66.000000      13.200000            128.000000         5.000000   \n75%        75.000000      15.000000            172.000000         8.000000   \nmax       145.000000      29.000000            488.000000        29.000000   \n\n        redTotalHeal  redObjectDamageDealt  \ncount  199925.000000         199925.000000  \nmean    24775.338692          36892.539087  \nstd     15428.891250          26916.048868  \nmin         0.000000              0.000000  \n25%     13596.000000          12739.000000  \n50%     21733.000000          32483.000000  \n75%     32589.000000          57311.000000  \nmax    206758.000000         197135.000000  \n\n[8 rows x 50 columns]",
      "text/html": "<div>\n<style scoped>\n    .dataframe tbody tr th:only-of-type {\n        vertical-align: middle;\n    }\n\n    .dataframe tbody tr th {\n        vertical-align: top;\n    }\n\n    .dataframe thead th {\n        text-align: right;\n    }\n</style>\n<table border=\"1\" class=\"dataframe\">\n  <thead>\n    <tr style=\"text-align: right;\">\n      <th></th>\n      <th>gameId</th>\n      <th>gameDuraton</th>\n      <th>blueWins</th>\n      <th>blueFirstBlood</th>\n      <th>blueFirstTower</th>\n      <th>blueFirstBaron</th>\n      <th>blueFirstDragon</th>\n      <th>blueFirstInhibitor</th>\n      <th>blueDragonKills</th>\n      <th>blueBaronKills</th>\n      <th>...</th>\n      <th>redAssist</th>\n      <th>redChampionDamageDealt</th>\n      <th>redTotalGold</th>\n      <th>redTotalMinionKills</th>\n      <th>redTotalLevel</th>\n      <th>redAvgLevel</th>\n      <th>redJungleMinionKills</th>\n      <th>redKillingSpree</th>\n      <th>redTotalHeal</th>\n      <th>redObjectDamageDealt</th>\n    </tr>\n  </thead>\n  <tbody>\n    <tr>\n      <th>count</th>\n      <td>1.999250e+05</td>\n      <td>199925.000000</td>\n      <td>199925.000000</td>\n      <td>199925.000000</td>\n      <td>199925.000000</td>\n      <td>199925.000000</td>\n      <td>199925.000000</td>\n      <td>199925.000000</td>\n      <td>199925.000000</td>\n      <td>199925.000000</td>\n      <td>...</td>\n      <td>199925.000000</td>\n      <td>199925.000000</td>\n      <td>199925.000000</td>\n      <td>199925.000000</td>\n      <td>199925.000000</td>\n      <td>199925.000000</td>\n      <td>199925.000000</td>\n      <td>199925.000000</td>\n      <td>199925.000000</td>\n      <td>199925.000000</td>\n    </tr>\n    <tr>\n      <th>mean</th>\n      <td>4.165346e+09</td>\n      <td>1433.434008</td>\n      <td>0.495956</td>\n      <td>0.506535</td>\n      <td>0.515863</td>\n      <td>0.236684</td>\n      <td>0.403616</td>\n      <td>0.382794</td>\n      <td>1.356744</td>\n      <td>0.297737</td>\n      <td>...</td>\n      <td>40.247978</td>\n      <td>69241.998725</td>\n      <td>48022.229046</td>\n      <td>505.554458</td>\n      <td>64.914903</td>\n      <td>12.982981</td>\n      <td>125.729318</td>\n      <td>5.682716</td>\n      <td>24775.338692</td>\n      <td>36892.539087</td>\n    </tr>\n    <tr>\n      <th>std</th>\n      <td>9.232801e+07</td>\n      <td>432.490237</td>\n      <td>0.499985</td>\n      <td>0.499959</td>\n      <td>0.499750</td>\n      <td>0.425048</td>\n      <td>0.490623</td>\n      <td>0.486070</td>\n      <td>1.254504</td>\n      <td>0.535042</td>\n      <td>...</td>\n      <td>29.041446</td>\n      <td>37440.925824</td>\n      <td>16271.618084</td>\n      <td>181.302212</td>\n      <td>14.953548</td>\n      <td>2.990710</td>\n      <td>66.887707</td>\n      <td>3.633332</td>\n      <td>15428.891250</td>\n      <td>26916.048868</td>\n    </tr>\n    <tr>\n      <th>min</th>\n      <td>3.163679e+09</td>\n      <td>132.000000</td>\n      <td>0.000000</td>\n      <td>0.000000</td>\n      <td>0.000000</td>\n      <td>0.000000</td>\n      <td>0.000000</td>\n      <td>0.000000</td>\n      <td>0.000000</td>\n      <td>0.000000</td>\n      <td>...</td>\n      <td>0.000000</td>\n      <td>0.000000</td>\n      <td>0.000000</td>\n      <td>0.000000</td>\n      <td>0.000000</td>\n      <td>0.000000</td>\n      <td>0.000000</td>\n      <td>0.000000</td>\n      <td>0.000000</td>\n      <td>0.000000</td>\n    </tr>\n    <tr>\n      <th>25%</th>\n      <td>4.136114e+09</td>\n      <td>1125.000000</td>\n      <td>0.000000</td>\n      <td>0.000000</td>\n      <td>0.000000</td>\n      <td>0.000000</td>\n      <td>0.000000</td>\n      <td>0.000000</td>\n      <td>0.000000</td>\n      <td>0.000000</td>\n      <td>...</td>\n      <td>20.000000</td>\n      <td>41312.000000</td>\n      <td>36472.000000</td>\n      <td>386.000000</td>\n      <td>55.000000</td>\n      <td>11.000000</td>\n      <td>84.000000</td>\n      <td>3.000000</td>\n      <td>13596.000000</td>\n      <td>12739.000000</td>\n    </tr>\n    <tr>\n      <th>50%</th>\n      <td>4.191588e+09</td>\n      <td>1420.000000</td>\n      <td>0.000000</td>\n      <td>1.000000</td>\n      <td>1.000000</td>\n      <td>0.000000</td>\n      <td>0.000000</td>\n      <td>0.000000</td>\n      <td>1.000000</td>\n      <td>0.000000</td>\n      <td>...</td>\n      <td>35.000000</td>\n      <td>64284.000000</td>\n      <td>48029.000000</td>\n      <td>522.000000</td>\n      <td>66.000000</td>\n      <td>13.200000</td>\n      <td>128.000000</td>\n      <td>5.000000</td>\n      <td>21733.000000</td>\n      <td>32483.000000</td>\n    </tr>\n    <tr>\n      <th>75%</th>\n      <td>4.222887e+09</td>\n      <td>1732.000000</td>\n      <td>1.000000</td>\n      <td>1.000000</td>\n      <td>1.000000</td>\n      <td>0.000000</td>\n      <td>1.000000</td>\n      <td>1.000000</td>\n      <td>2.000000</td>\n      <td>1.000000</td>\n      <td>...</td>\n      <td>54.000000</td>\n      <td>90679.000000</td>\n      <td>59101.000000</td>\n      <td>631.000000</td>\n      <td>75.000000</td>\n      <td>15.000000</td>\n      <td>172.000000</td>\n      <td>8.000000</td>\n      <td>32589.000000</td>\n      <td>57311.000000</td>\n    </tr>\n    <tr>\n      <th>max</th>\n      <td>4.261026e+09</td>\n      <td>3758.000000</td>\n      <td>1.000000</td>\n      <td>1.000000</td>\n      <td>1.000000</td>\n      <td>1.000000</td>\n      <td>1.000000</td>\n      <td>1.000000</td>\n      <td>7.000000</td>\n      <td>4.000000</td>\n      <td>...</td>\n      <td>229.000000</td>\n      <td>359184.000000</td>\n      <td>141692.000000</td>\n      <td>1443.000000</td>\n      <td>145.000000</td>\n      <td>29.000000</td>\n      <td>488.000000</td>\n      <td>29.000000</td>\n      <td>206758.000000</td>\n      <td>197135.000000</td>\n    </tr>\n  </tbody>\n</table>\n<p>8 rows × 50 columns</p>\n</div>"
     },
     "execution_count": 47,
     "metadata": {},
     "output_type": "execute_result"
    }
   ],
   "source": [
    "df.describe()"
   ],
   "metadata": {
    "collapsed": false,
    "pycharm": {
     "name": "#%%\n"
    }
   }
  }
 ],
 "metadata": {
  "kernelspec": {
   "display_name": "Python 3",
   "language": "python",
   "name": "python3"
  },
  "language_info": {
   "codemirror_mode": {
    "name": "ipython",
    "version": 2
   },
   "file_extension": ".py",
   "mimetype": "text/x-python",
   "name": "python",
   "nbconvert_exporter": "python",
   "pygments_lexer": "ipython2",
   "version": "2.7.6"
  }
 },
 "nbformat": 4,
 "nbformat_minor": 0
}