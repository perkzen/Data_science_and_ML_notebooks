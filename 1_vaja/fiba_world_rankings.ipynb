{
 "cells": [
  {
   "cell_type": "markdown",
   "source": [
    "Top 10 basketball teams in europe plus all Yugoslavian teams."
   ],
   "metadata": {
    "collapsed": false
   }
  },
  {
   "cell_type": "code",
   "execution_count": 5,
   "metadata": {
    "collapsed": true,
    "pycharm": {
     "name": "#%%\n"
    }
   },
   "outputs": [],
   "source": [
    "teams = {\n",
    "    \"Spain\": 758.9,\n",
    "    \"France\": 712.9,\n",
    "    \"Serbia\": 711.5,\n",
    "    \"Slovenia\": 703.5,\n",
    "    \"Lithuania\": 673.7,\n",
    "    \"Greece\": 670.8,\n",
    "    \"Italy\": 647.6,\n",
    "    \"Germany\": 640.6,\n",
    "    \"Czech_Republic\": 597.7,\n",
    "    \"Poland\": 589.9,\n",
    "    \"Croatia\": 436.7,\n",
    "    \"Bosnia\": 326.1,\n",
    "    \"Macedonia\": 195.3\n",
    "}"
   ]
  },
  {
   "cell_type": "markdown",
   "source": [
    "Add Yugoslavia to dictionary where points are equal to the average of all Yugoslavian teams."
   ],
   "metadata": {
    "collapsed": false
   }
  },
  {
   "cell_type": "code",
   "execution_count": 7,
   "outputs": [
    {
     "name": "stdout",
     "output_type": "stream",
     "text": [
      "474.62000000000006\n"
     ]
    }
   ],
   "source": [
    "yugoslavia = [\"Slovenia\", \"Croatia\", \"Serbia\", \"Bosnia\", \"Macedonia\"]\n",
    "sum_points = 0\n",
    "\n",
    "for country in yugoslavia:\n",
    "    sum_points += teams[country]\n",
    "\n",
    "teams[\"Yugoslavia\"] = sum_points / len(yugoslavia)\n",
    "print(teams[\"Yugoslavia\"])"
   ],
   "metadata": {
    "collapsed": false,
    "pycharm": {
     "name": "#%%\n"
    }
   }
  },
  {
   "cell_type": "markdown",
   "source": [
    "Print all teams with more than 700 points."
   ],
   "metadata": {
    "collapsed": false
   }
  },
  {
   "cell_type": "code",
   "execution_count": 8,
   "outputs": [
    {
     "name": "stdout",
     "output_type": "stream",
     "text": [
      "Team Spain has achieved 758.9 points.\n",
      "Team France has achieved 712.9 points.\n",
      "Team Serbia has achieved 711.5 points.\n",
      "Team Slovenia has achieved 703.5 points.\n"
     ]
    }
   ],
   "source": [
    "for team in teams:\n",
    "    points = teams[team]\n",
    "    if points > 700:\n",
    "        print(\"Team {} has achieved {} points.\".format(team, points))"
   ],
   "metadata": {
    "collapsed": false,
    "pycharm": {
     "name": "#%%\n"
    }
   }
  },
  {
   "cell_type": "markdown",
   "source": [
    "Print all leap years from 1900 to 2020"
   ],
   "metadata": {
    "collapsed": false
   }
  },
  {
   "cell_type": "code",
   "execution_count": 11,
   "outputs": [
    {
     "name": "stdout",
     "output_type": "stream",
     "text": [
      "1904 is a leap year.\n",
      "1908 is a leap year.\n",
      "1912 is a leap year.\n",
      "1916 is a leap year.\n",
      "1920 is a leap year.\n",
      "1924 is a leap year.\n",
      "1928 is a leap year.\n",
      "1932 is a leap year.\n",
      "1936 is a leap year.\n",
      "1940 is a leap year.\n",
      "1944 is a leap year.\n",
      "1948 is a leap year.\n",
      "1952 is a leap year.\n",
      "1956 is a leap year.\n",
      "1960 is a leap year.\n",
      "1964 is a leap year.\n",
      "1968 is a leap year.\n",
      "1972 is a leap year.\n",
      "1976 is a leap year.\n",
      "1980 is a leap year.\n",
      "1984 is a leap year.\n",
      "1988 is a leap year.\n",
      "1992 is a leap year.\n",
      "1996 is a leap year.\n",
      "2000 is a leap year.\n",
      "2004 is a leap year.\n",
      "2008 is a leap year.\n",
      "2012 is a leap year.\n",
      "2016 is a leap year.\n",
      "2020 is a leap year.\n"
     ]
    }
   ],
   "source": [
    "def is_leap_year(year: int):\n",
    "    return year % 4 == 0 and (year % 100 != 0 or year % 400 == 0)\n",
    "\n",
    "\n",
    "for i in range(1900, 2021):\n",
    "    if is_leap_year(i):\n",
    "        print(\"{} is a leap year.\".format(i))"
   ],
   "metadata": {
    "collapsed": false,
    "pycharm": {
     "name": "#%%\n"
    }
   }
  },
  {
   "cell_type": "markdown",
   "source": [
    "Create lists within a list with a list of your 3 favourite animals, 2 favourite decimal numbers and a list [True, True, False, False]"
   ],
   "metadata": {
    "collapsed": false
   }
  },
  {
   "cell_type": "code",
   "source": [
    "my_data = [[\"Capybara\", \"Panda\", \"Dog\"], [4.2, 6.9], [True, True, False, False]]"
   ],
   "metadata": {
    "collapsed": false,
    "pycharm": {
     "name": "#%%\n"
    }
   },
   "execution_count": 37,
   "outputs": []
  },
  {
   "cell_type": "markdown",
   "source": [
    "Update the list so that the last list will contain only false values."
   ],
   "metadata": {
    "collapsed": false
   }
  },
  {
   "cell_type": "code",
   "execution_count": 39,
   "outputs": [
    {
     "name": "stdout",
     "output_type": "stream",
     "text": [
      "[False, False, False, False]\n"
     ]
    }
   ],
   "source": [
    "for i in range(len(my_data[2])):\n",
    "    my_data[2][i] = False\n",
    "print(my_data[2])"
   ],
   "metadata": {
    "collapsed": false,
    "pycharm": {
     "name": "#%%\n"
    }
   }
  },
  {
   "cell_type": "markdown",
   "source": [
    "Print all first values of all sub lists in one line"
   ],
   "metadata": {
    "collapsed": false
   }
  },
  {
   "cell_type": "code",
   "execution_count": 17,
   "outputs": [
    {
     "name": "stdout",
     "output_type": "stream",
     "text": [
      "['Capybara', 4.2, True]\n"
     ]
    }
   ],
   "source": [
    "print([item[0] for item in my_data])"
   ],
   "metadata": {
    "collapsed": false,
    "pycharm": {
     "name": "#%%\n"
    }
   }
  }
 ],
 "metadata": {
  "kernelspec": {
   "display_name": "Python 3",
   "language": "python",
   "name": "python3"
  },
  "language_info": {
   "codemirror_mode": {
    "name": "ipython",
    "version": 2
   },
   "file_extension": ".py",
   "mimetype": "text/x-python",
   "name": "python",
   "nbconvert_exporter": "python",
   "pygments_lexer": "ipython2",
   "version": "2.7.6"
  }
 },
 "nbformat": 4,
 "nbformat_minor": 0
}