{
 "cells": [
  {
   "cell_type": "code",
   "execution_count": 343,
   "metadata": {
    "collapsed": true
   },
   "outputs": [],
   "source": [
    "import nltk\n",
    "import pandas as pd"
   ]
  },
  {
   "cell_type": "code",
   "execution_count": 344,
   "outputs": [],
   "source": [
    "#nltk.download()"
   ],
   "metadata": {
    "collapsed": false,
    "pycharm": {
     "name": "#%%\n"
    }
   }
  },
  {
   "cell_type": "markdown",
   "source": [],
   "metadata": {
    "collapsed": false
   }
  },
  {
   "cell_type": "markdown",
   "source": [
    "1. Preberite datoteko wineReviews.csv in izpišite prvih 5 ocen vin."
   ],
   "metadata": {
    "collapsed": false,
    "pycharm": {
     "name": "#%% md\n"
    }
   }
  },
  {
   "cell_type": "code",
   "execution_count": 345,
   "outputs": [
    {
     "data": {
      "text/plain": "        country                                        description\nwineId                                                            \n219     Hungary  From a vineyard in Northern Tokaj this dry Fur...\n271      Greece  Lively aromas of lemon, grapefruit and melon s...\n308      Greece  This fuller-bodied white blend offers pineappl...\n351     Hungary  This amber-colored Hungarian stunner has ether...\n377      Greece  A fresh, tangy, vibrant wine that has ripe gre...",
      "text/html": "<div>\n<style scoped>\n    .dataframe tbody tr th:only-of-type {\n        vertical-align: middle;\n    }\n\n    .dataframe tbody tr th {\n        vertical-align: top;\n    }\n\n    .dataframe thead th {\n        text-align: right;\n    }\n</style>\n<table border=\"1\" class=\"dataframe\">\n  <thead>\n    <tr style=\"text-align: right;\">\n      <th></th>\n      <th>country</th>\n      <th>description</th>\n    </tr>\n    <tr>\n      <th>wineId</th>\n      <th></th>\n      <th></th>\n    </tr>\n  </thead>\n  <tbody>\n    <tr>\n      <th>219</th>\n      <td>Hungary</td>\n      <td>From a vineyard in Northern Tokaj this dry Fur...</td>\n    </tr>\n    <tr>\n      <th>271</th>\n      <td>Greece</td>\n      <td>Lively aromas of lemon, grapefruit and melon s...</td>\n    </tr>\n    <tr>\n      <th>308</th>\n      <td>Greece</td>\n      <td>This fuller-bodied white blend offers pineappl...</td>\n    </tr>\n    <tr>\n      <th>351</th>\n      <td>Hungary</td>\n      <td>This amber-colored Hungarian stunner has ether...</td>\n    </tr>\n    <tr>\n      <th>377</th>\n      <td>Greece</td>\n      <td>A fresh, tangy, vibrant wine that has ripe gre...</td>\n    </tr>\n  </tbody>\n</table>\n</div>"
     },
     "execution_count": 345,
     "metadata": {},
     "output_type": "execute_result"
    }
   ],
   "source": [
    "df = pd.read_csv(\"wineReviews.csv\", encoding=\"ISO-8859-1\", sep=\"\t\", index_col=\"wineId\")\n",
    "df.head(5)"
   ],
   "metadata": {
    "collapsed": false,
    "pycharm": {
     "name": "#%%\n"
    }
   }
  },
  {
   "cell_type": "markdown",
   "source": [
    "2. Izpišite iz katerih držav prihajajo ocenjena vina in koliko jih prihaja iz posamezne države."
   ],
   "metadata": {
    "collapsed": false
   }
  },
  {
   "cell_type": "code",
   "execution_count": 346,
   "outputs": [
    {
     "data": {
      "text/plain": "Greece      466\nHungary     146\nSlovenia     87\nCroatia      73\nName: country, dtype: int64"
     },
     "execution_count": 346,
     "metadata": {},
     "output_type": "execute_result"
    }
   ],
   "source": [
    "df[\"country\"].value_counts()"
   ],
   "metadata": {
    "collapsed": false,
    "pycharm": {
     "name": "#%%\n"
    }
   }
  },
  {
   "cell_type": "markdown",
   "source": [
    "3. Združite ocene vseh slovenskih vin v skupno besedilo. To besedilo:\n",
    "\n",
    "- tokeniziraje in izpišite 10 tokenov, ki imajo najvišjo frekvenco pojavitve,\n",
    "- izrišite graf, ki bo ponazoril, katerih 20 tokenov se največkrat pojavi v oceni slovenskih vin,\n",
    "- iz besedila odstranite vse \"stop words\" (besede brez pomena in ločila) ter izmed preostalih tokenov izpišite 5 takšnih, ki imajo najvišjo frekvenco pojavitve,\n",
    "- iz tako prečiščenega besedila izpišite 4 najpogostejše bigrame in trigrame."
   ],
   "metadata": {
    "collapsed": false
   }
  },
  {
   "cell_type": "code",
   "execution_count": 347,
   "outputs": [],
   "source": [
    "slovenia_rows = df.loc[df[\"country\"] == \"Slovenia\"]\n",
    "\n",
    "review = \"\"\n",
    "\n",
    "for description in slovenia_rows[\"description\"]:\n",
    "    review += description"
   ],
   "metadata": {
    "collapsed": false,
    "pycharm": {
     "name": "#%%\n"
    }
   }
  },
  {
   "cell_type": "code",
   "execution_count": 348,
   "outputs": [
    {
     "name": "stdout",
     "output_type": "stream",
     "text": [
      ",              : 232\n",
      "and            : 224\n",
      "of             : 184\n",
      "the            : 124\n",
      ".              : 107\n",
      "with           : 101\n",
      "a              : 93\n",
      "is             : 62\n",
      "flavors        : 62\n",
      "it             : 58\n"
     ]
    }
   ],
   "source": [
    "from nltk.tokenize import word_tokenize\n",
    "from nltk import FreqDist\n",
    "\n",
    "tokens = word_tokenize(review)\n",
    "tokens = [word.lower() for word in tokens]\n",
    "\n",
    "token_freq = FreqDist(tokens)\n",
    "\n",
    "for word, freq in token_freq.most_common(10):\n",
    "    print(f'{word:<15}: {freq}')"
   ],
   "metadata": {
    "collapsed": false,
    "pycharm": {
     "name": "#%%\n"
    }
   }
  },
  {
   "cell_type": "code",
   "execution_count": 349,
   "outputs": [
    {
     "data": {
      "text/plain": "<Figure size 640x480 with 1 Axes>",
      "image/png": "[encoded data removed]"
     },
     "metadata": {},
     "output_type": "display_data"
    },
    {
     "data": {
      "text/plain": "<AxesSubplot:xlabel='Samples', ylabel='Counts'>"
     },
     "execution_count": 349,
     "metadata": {},
     "output_type": "execute_result"
    }
   ],
   "source": [
    "import matplotlib\n",
    "\n",
    "token_freq.plot(20, cumulative=False)"
   ],
   "metadata": {
    "collapsed": false,
    "pycharm": {
     "name": "#%%\n"
    }
   }
  },
  {
   "cell_type": "code",
   "execution_count": 350,
   "outputs": [
    {
     "name": "stdout",
     "output_type": "stream",
     "text": [
      "flavors        : 62\n",
      "aromas         : 46\n",
      "wine           : 43\n",
      "apple          : 34\n",
      "'s             : 31\n"
     ]
    }
   ],
   "source": [
    "from nltk.corpus import stopwords\n",
    "import string\n",
    "\n",
    "stop_list = stopwords.words('english') + list(string.punctuation)\n",
    "tokens = [token for token in tokens if token not in stop_list]\n",
    "\n",
    "token_freq = FreqDist(tokens)\n",
    "\n",
    "for word, freq in token_freq.most_common(5):\n",
    "    print(f'{word:<15}: {freq}')"
   ],
   "metadata": {
    "collapsed": false,
    "pycharm": {
     "name": "#%%\n"
    }
   }
  },
  {
   "cell_type": "code",
   "execution_count": 351,
   "outputs": [
    {
     "name": "stdout",
     "output_type": "stream",
     "text": [
      "('ribolla', 'gialla'): 11\n",
      "('green', 'apple'): 10\n",
      "('white', 'peach'): 8\n",
      "('black', 'cherry'): 8\n"
     ]
    }
   ],
   "source": [
    "from nltk import ngrams\n",
    "\n",
    "bigram = FreqDist(ngrams(tokens, 2))\n",
    "for word, freq in bigram.most_common(4):\n",
    "    print(f'{str(word):<15}: {freq}')"
   ],
   "metadata": {
    "collapsed": false,
    "pycharm": {
     "name": "#%%\n"
    }
   }
  },
  {
   "cell_type": "code",
   "execution_count": 352,
   "outputs": [
    {
     "name": "stdout",
     "output_type": "stream",
     "text": [
      "('ribolla', 'gialla', 'aromas'): 4\n",
      "('freshly', 'cut', 'grass'): 4\n",
      "('cherry', 'red', 'raspberry'): 3\n",
      "('tangerine', 'acidity', \"'s\"): 3\n"
     ]
    }
   ],
   "source": [
    "from nltk import ngrams\n",
    "\n",
    "trigram = FreqDist(ngrams(tokens, 3))\n",
    "for word, freq in trigram.most_common(4):\n",
    "    print(f'{str(word):<15}: {freq}')"
   ],
   "metadata": {
    "collapsed": false,
    "pycharm": {
     "name": "#%%\n"
    }
   }
  },
  {
   "cell_type": "markdown",
   "source": [
    "4. V datafram-u ustvarite nov stolpec poimenovan processed, kamor shranite besedilo ocen (description), ki je:\n",
    "\n",
    "- v celoti zapisano z malimi črkami,\n",
    "- brez \"stop words\" (besede brez pomena in ločila),\n",
    "- besede morajo biti krnjene (nad njimi uporabite stemming)."
   ],
   "metadata": {
    "collapsed": false
   }
  },
  {
   "cell_type": "code",
   "execution_count": 353,
   "outputs": [
    {
     "data": {
      "text/plain": "        country                                        description  \\\nwineId                                                               \n219     Hungary  From a vineyard in Northern Tokaj this dry Fur...   \n271      Greece  Lively aromas of lemon, grapefruit and melon s...   \n308      Greece  This fuller-bodied white blend offers pineappl...   \n351     Hungary  This amber-colored Hungarian stunner has ether...   \n377      Greece  A fresh, tangy, vibrant wine that has ripe gre...   \n\n                                                processed  \nwineId                                                     \n219     from vineyard northern tokaj dri furmint aroma...  \n271     live aroma lemon grapefruit melon start white ...  \n308     thi fuller-bodi white blend offer pineappl kiw...  \n351     thi amber-color hungarian stunner ether aroma ...  \n377     a fresh tangi vibrant wine ripe green plum app...  ",
      "text/html": "<div>\n<style scoped>\n    .dataframe tbody tr th:only-of-type {\n        vertical-align: middle;\n    }\n\n    .dataframe tbody tr th {\n        vertical-align: top;\n    }\n\n    .dataframe thead th {\n        text-align: right;\n    }\n</style>\n<table border=\"1\" class=\"dataframe\">\n  <thead>\n    <tr style=\"text-align: right;\">\n      <th></th>\n      <th>country</th>\n      <th>description</th>\n      <th>processed</th>\n    </tr>\n    <tr>\n      <th>wineId</th>\n      <th></th>\n      <th></th>\n      <th></th>\n    </tr>\n  </thead>\n  <tbody>\n    <tr>\n      <th>219</th>\n      <td>Hungary</td>\n      <td>From a vineyard in Northern Tokaj this dry Fur...</td>\n      <td>from vineyard northern tokaj dri furmint aroma...</td>\n    </tr>\n    <tr>\n      <th>271</th>\n      <td>Greece</td>\n      <td>Lively aromas of lemon, grapefruit and melon s...</td>\n      <td>live aroma lemon grapefruit melon start white ...</td>\n    </tr>\n    <tr>\n      <th>308</th>\n      <td>Greece</td>\n      <td>This fuller-bodied white blend offers pineappl...</td>\n      <td>thi fuller-bodi white blend offer pineappl kiw...</td>\n    </tr>\n    <tr>\n      <th>351</th>\n      <td>Hungary</td>\n      <td>This amber-colored Hungarian stunner has ether...</td>\n      <td>thi amber-color hungarian stunner ether aroma ...</td>\n    </tr>\n    <tr>\n      <th>377</th>\n      <td>Greece</td>\n      <td>A fresh, tangy, vibrant wine that has ripe gre...</td>\n      <td>a fresh tangi vibrant wine ripe green plum app...</td>\n    </tr>\n  </tbody>\n</table>\n</div>"
     },
     "execution_count": 353,
     "metadata": {},
     "output_type": "execute_result"
    }
   ],
   "source": [
    "from nltk.stem import PorterStemmer\n",
    "\n",
    "\n",
    "def process_text(text: str):\n",
    "    stemmer = PorterStemmer()\n",
    "    tokenized_text = word_tokenize(text)\n",
    "    tokenized_text = [token.lower() for token in tokenized_text if token not in stop_list]\n",
    "    tokenized_text = [stemmer.stem(token) for token in tokenized_text]\n",
    "    return ' '.join(tokenized_text)\n",
    "\n",
    "\n",
    "df['processed'] = df['description'].apply(process_text)\n",
    "df.head()"
   ],
   "metadata": {
    "collapsed": false,
    "pycharm": {
     "name": "#%%\n"
    }
   }
  },
  {
   "cell_type": "markdown",
   "source": [
    "5. S pomočjo TfidfVectorizer razdelite predprocesirana besedila ocen (iz stolpca processed) na unigrame in izpišite koliko je vseh nastalih tokenov (features).\n"
   ],
   "metadata": {
    "collapsed": false
   }
  },
  {
   "cell_type": "code",
   "execution_count": 354,
   "outputs": [
    {
     "name": "stdout",
     "output_type": "stream",
     "text": [
      "['000', '10', '100', '11', '13', '15', '150', '16', '17', '18', '20', '2010', '2016', '21', '22', '24', '25', '27', '30', '33', '34', '35', '40', '50', '5â', '60', '65', '70', '72', '80', '86', 'abil', 'abound', 'abund', 'abundantli', 'abv', 'acacia', 'acc', 'accent', 'access', 'accompani', 'acid', 'acidityâ', 'acquir', 'ad', 'add', 'addit', 'administ', 'advantag', 'aegean', 'aerat', 'afford', 'after', 'ag', 'age', 'ageabl', 'ageworthi', 'aggress', 'agiorgitiko', 'agiorgitkio', 'agiorgitko', 'aimless', 'air', 'akin', 'alcohol', 'alfalfa', 'alik', 'aliv', 'all', 'allspic', 'allur', 'almond', 'almost', 'aloft', 'alon', 'along', 'alongsid', 'alpha', 'alreadi', 'also', 'altern', 'altitud', 'amber', 'ambiti', 'american', 'ameriku', 'amidst', 'among', 'amount', 'ampl', 'amyndeon', 'an', 'ancestor', 'ancient', 'and', 'angular', 'anis', 'anise', 'anjou', 'anoth', 'anyth', 'anytim', 'apart', 'appeal', 'appet', 'appl', 'appreci', 'approach', 'apricot', 'apt', 'apã', 'aroma', 'aromasâ', 'aromat', 'around', 'array', 'art', 'asian', 'asproudiâ', 'assert', 'assyrtico', 'assyrtiko', 'assytriko', 'astring', 'aszãº', 'athiri', 'attack', 'attica', 'attract', 'au', 'auster', 'austria', 'authent', 'autumn', 'averag', 'axia', 'babi', 'babic', 'back', 'backbon', 'backdrop', 'background', 'backpal', 'bake', 'bal', 'balanc', 'balancedâ', 'balm', 'balsam', 'banana', 'bang', 'bar', 'barb', 'barbecu', 'bargain', 'barnyard', 'barrel', 'barriqu', 'bartlett', 'bas', 'base', 'basement', 'basil', 'batiki', 'beach', 'bean', 'beat', 'beauti', 'becom', 'beef', 'beefi', 'beeswax', 'beg', 'begin', 'behind', 'benefit', 'berri', 'berry', 'best', 'beâ', 'biblio', 'big', 'bigger', 'bikavã', 'biodynam', 'bird', 'birthplac', 'bit', 'bitter', 'black', 'blackberri', 'blackcurr', 'blackâ', 'blanc', 'blauburg', 'blaufrã', 'blend', 'blood', 'blossom', 'blow', 'blueberri', 'blush', 'boast', 'bodi', 'bohemian', 'bold', 'bolder', 'bone', 'boost', 'boot', 'boozi', 'bordeaux', 'border', 'both', 'botryti', 'bottl', 'bounc', 'bouquet', 'boutari', 'box', 'boysenberri', 'brace', 'bracingli', 'brambl', 'brawn', 'brawni', 'brda', 'bread', 'break', 'brethren', 'briar', 'brick', 'bright', 'brilliant', 'brine', 'bring', 'brini', 'brioch', 'brisk', 'bristl', 'broad', 'brood', 'brought', 'brown', 'bruis', 'brã', 'bubbl', 'bubblegum', 'buck', 'bud', 'build', 'buoy', 'buoyant', 'burger', 'burnt', 'burst', 'busi', 'but', 'butter', 'butteri', 'butterscotch', 'cab', 'cabernet', 'cafã', 'cake', 'call', 'can', 'candi', 'caramel', 'carra', 'carri', 'case', 'cassi', 'cedar', 'ceglo', 'cellar', 'cellarworthi', 'centuri', 'cephalonia', 'certainli', 'cevich', 'chabli', 'chalki', 'challeng', 'chamomil', 'champion', 'char', 'charact', 'character', 'characterist', 'characterâ', 'charcuteri', 'chardonnay', 'charm', 'charmat', 'chateau', 'check', 'cheer', 'chees', 'cherri', 'cherry', 'chewi', 'chicken', 'chines', 'chocol', 'chocolate', 'choic', 'choiceâ', 'chora', 'chunk', 'chunki', 'cider', 'cigar', 'cigarbox', 'cinnamon', 'cirtic', 'citric', 'citru', 'citrus', 'citrusi', 'citrusâ', 'clam', 'class', 'classi', 'classic', 'clay', 'clean', 'cleanli', 'clear', 'close', 'clove', 'clover', 'cloy', 'clumsi', 'co', 'coars', 'coat', 'cobbler', 'coca', 'cocoa', 'coffe', 'cohort', 'cola', 'cold', 'collect', 'color', 'combin', 'come', 'commerci', 'commonli', 'compel', 'complement', 'complex', 'complic', 'compon', 'compos', 'compot', 'compris', 'concentr', 'confect', 'confid', 'confirm', 'conserv', 'consid', 'consider', 'consist', 'construct', 'consum', 'contend', 'content', 'continu', 'contribut', 'convey', 'cooki', 'core', 'corn', 'corp', 'cotton', 'could', 'counter', 'counterpart', 'countri', 'cov', 'craft', 'cranberri', 'cream', 'creami', 'creamsicl', 'creat', 'cretan', 'crete', 'crisp', 'crispli', 'croatia', 'croatian', 'crumb', 'crush', 'crã', 'cucumb', 'cuisin', 'culmin', 'cup', 'curd', 'cure', 'curiou', 'currant', 'curv', 'curvac', 'curvi', 'curvier', 'custard', 'cut', 'cuvã', 'cyclad', 'dainti', 'danc', 'dark', 'darker', 'date', 'day', 'deal', 'debit', 'decad', 'decant', 'decidedli', 'deciph', 'deep', 'deeper', 'deepli', 'definit', 'deft', 'delic', 'delicaci', 'delici', 'delight', 'deliv', 'demi', 'dens', 'denser', 'depend', 'depth', 'dessert', 'develop', 'difficult', 'dimens', 'diminish', 'dinn', 'dinner', 'direct', 'disclos', 'discord', 'dish', 'dishesâ', 'disjoint', 'display', 'dissip', 'distinct', 'distinctli', 'distinguish', 'distract', 'divers', 'domin', 'dose', 'down', 'drama', 'dramat', 'draw', 'dri', 'drier', 'drink', 'drinkabl', 'drinker', 'drinkingâ', 'drip', 'drive', 'driven', 'drum', 'dry', 'dryness', 'duck', 'due', 'dusti', 'earli', 'earth', 'earthi', 'earthier', 'easi', 'easili', 'easy', 'easydrink', 'easygo', 'ebulli', 'eccentr', 'edg', 'edgi', 'effervesc', 'effortlessli', 'egg', 'elbow', 'elderflow', 'eleg', 'elegantli', 'element', 'elio', 'elixir', 'embrac', 'enabl', 'end', 'endang', 'energet', 'enhanc', 'enjoy', 'enough', 'entic', 'entir', 'entre', 'entreeâ', 'entri', 'entrã', 'equal', 'especi', 'espresso', 'establish', 'estat', 'ether', 'ethnic', 'eucalyptu', 'even', 'everi', 'everyday', 'everyon', 'everyth', 'evok', 'evolv', 'exampl', 'excel', 'except', 'excit', 'exemplari', 'exhibit', 'exot', 'expect', 'experi', 'explod', 'express', 'exquisit', 'extend', 'extra', 'extract', 'extrem', 'exuber', 'eye', 'faint', 'faintli', 'faintâ', 'fairli', 'fame', 'famili', 'famou', 'fan', 'fantast', 'far', 'fare', 'farm', 'farmstand', 'fascin', 'fat', 'fatti', 'fattier', 'favorit', 'featur', 'feel', 'feisti', 'feminin', 'fennel', 'fer', 'feral', 'ferment', 'feta', 'fid', 'fieri', 'fig', 'fill', 'final', 'find', 'fine', 'finess', 'finish', 'finishingli', 'firm', 'first', 'fish', 'five', 'flair', 'flaki', 'flamboy', 'flash', 'flavor', 'flavorsâ', 'fleck', 'flesh', 'fleshi', 'flint', 'flinti', 'flirti', 'floor', 'floral', 'florina', 'flourish', 'flow', 'flower', 'focu', 'focus', 'foliag', 'follow', 'food', 'for', 'forest', 'forgotten', 'form', 'fortifi', 'forward', 'foster', 'found', 'fowl', 'fox', 'fragrant', 'frame', 'franc', 'freesia', 'french', 'frequent', 'fresh', 'freshli', 'fri', 'friend', 'friendli', 'friendly', 'fring', 'friulano', 'from', 'front', 'fruilano', 'fruit', 'fruiti', 'full', 'fuller', 'fulli', 'fumã', 'fun', 'funâ', 'furmint', 'furri', 'fussi', 'gain', 'game', 'gardenia', 'garnet', 'geek', 'gem', 'gener', 'gentl', 'germani', 'gerovassili', 'get', 'gialla', 'ginger', 'give', 'given', 'glamor', 'glass', 'glera', 'glimmer', 'glimps', 'global', 'gloriou', 'go', 'god', 'goe', 'gold', 'golden', 'good', 'gooseberri', 'gorgeou', 'gorgeous', 'got', 'grace', 'grain', 'grand', 'granit', 'granni', 'grape', 'grapefruit', 'grapey', 'graphit', 'grass', 'grassi', 'grassâ', 'gratifi', 'gravita', 'great', 'greec', 'greek', 'green', 'greet', 'gri', 'grigio', 'grill', 'grip', 'grippi', 'ground', 'grown', 'grã¼ner', 'guava', 'gyro', 'hail', 'hallmark', 'ham', 'hand', 'handl', 'hard', 'harmoni', 'harsh', 'harvest', 'hatzi', 'hatã', 'hay', 'hazelnut', 'headi', 'headier', 'healthi', 'hearthâ', 'hearti', 'heartier', 'heat', 'heather', 'heavi', 'heavier', 'heft', 'hefti', 'help', 'herb', 'herbac', 'herbal', 'here', 'hereâ', 'hickori', 'high', 'hilltop', 'hint', 'hip', 'hit', 'hold', 'honey', 'honeycomb', 'honeycrisp', 'honeydew', 'honeysuckl', 'host', 'hot', 'hous', 'howev', 'hu', 'hungari', 'hungarian', 'hunt', 'hvar', 'hyacinth', 'hã', 'ice', 'icon', 'ideal', 'if', 'imagin', 'immedi', 'impecc', 'import', 'impos', 'impress', 'in', 'includ', 'indian', 'indigen', 'indulg', 'inflect', 'initi', 'innov', 'integr', 'intens', 'interest', 'interlac', 'intern', 'interplay', 'interspers', 'intox', 'intrigu', 'intriguingâ', 'introduct', 'invigor', 'invit', 'ion', 'island', 'istria', 'istriana', 'it', 'itali', 'italica', 'ivica', 'jalapeã', 'jam', 'jasmin', 'jean', 'jerk', 'join', 'juic', 'juici', 'julia', 'just', 'kabar', 'kadarka', 'kaleidescop', 'kallisti', 'kat', 'katarina', 'kebab', 'keep', 'kefranko', 'kekfranko', 'kept', 'key', 'kfranko', 'kick', 'kidonitsa', 'kirsch', 'kiss', 'kiwi', 'known', 'korcula', 'korta', 'kostifali', 'krasato', 'ktima', 'kumquat', 'kutjevo', 'kã', 'lace', 'lack', 'laden', 'lait', 'lamb', 'lang', 'lanolin', 'larg', 'lasagna', 'laser', 'lasin', 'late', 'lavend', 'lavish', 'lavor', 'lawn', 'layer', 'lead', 'leaf', 'lean', 'leaner', 'learn', 'leas', 'leather', 'leatheri', 'leav', 'lee', 'left', 'lemberg', 'lemon', 'lemoni', 'lend', 'length', 'less', 'let', 'level', 'life', 'lift', 'light', 'lighter', 'lightli', 'lightâ', 'lik', 'likabl', 'like', 'likeabl', 'lili', 'lim', 'lime', 'limeston', 'limnio', 'limno', 'linear', 'linger', 'lip', 'liquoric', 'littl', 'live', 'liven', 'load', 'lobster', 'lobsterâ', 'local', 'locat', 'lodg', 'long', 'look', 'lose', 'lot', 'loung', 'love', 'lover', 'ltd', 'lunel', 'lusciou', 'luscious', 'lush', 'luxuri', 'lyche', 'lyraraki', 'lã', 'macedonia', 'mad', 'madagascar', 'maddeningli', 'made', 'magenta', 'mainland', 'mainlyâ', 'mainstream', 'maintain', 'make', 'malagousia', 'malagouzia', 'mali', 'malvasia', 'mandarin', 'mandilari', 'mango', 'mani', 'mantinia', 'map', 'maraschino', 'march', 'marco', 'mark', 'market', 'marmalad', 'marri', 'marzipan', 'masculin', 'massiv', 'masteri', 'match', 'matchstick', 'matoeviâ', 'mavrotragano', 'mavroud', 'mavroudi', 'may', 'me', 'meal', 'mean', 'meat', 'meati', 'medicin', 'mediteranean', 'mediterranean', 'mediterraneanâ', 'medium', 'medley', 'meld', 'mellow', 'melon', 'melt', 'memor', 'menthol', 'meringu', 'merlot', 'mesquit', 'method', 'meyer', 'mhw', 'michel', 'mid', 'midpal', 'mild', 'milk', 'millon', 'mind', 'miner', 'mineral', 'minerally', 'mingl', 'mint', 'mirror', 'mission', 'mix', 'mocha', 'mochaâ', 'moder', 'modern', 'modri', 'molass', 'moment', 'month', 'moodi', 'more', 'morel', 'moroccan', 'moscato', 'moschofilero', 'moscholfilero', 'moscofilero', 'moussaka', 'mouth', 'mouthcoat', 'mouthfeel', 'mouthfil', 'mouthwat', 'movia', 'mow', 'mt', 'much', 'mulch', 'mull', 'multifacet', 'multilay', 'multiple', 'multitud', 'muscat', 'muscl', 'mush', 'mushroom', 'muski', 'mussel', 'muå', 'myriad', 'mysteri', 'mythic', 'mã', 'name', 'namesak', 'nativ', 'natur', 'nectar', 'nectarin', 'need', 'nemea', 'nerv', 'nervi', 'nervou', 'network', 'never', 'nevertheless', 'new', 'next', 'nice', 'nimbl', 'nkisch', 'nkish', 'nobl', 'noir', 'nonetheless', 'north', 'northeastern', 'northern', 'nose', 'not', 'note', 'notesâ', 'notio', 'nuanc', 'nut', 'nutmeg', 'nutti', 'oak', 'oaki', 'obviou', 'octopu', 'odd', 'oenophil', 'of', 'off', 'offer', 'offset', 'often', 'oil', 'oili', 'oilier', 'old', 'oliv', 'olympu', 'on', 'one', 'ongo', 'onto', 'open', 'option', 'opul', 'or', 'orang', 'orange', 'oregano', 'ori', 'origin', 'oven', 'overal', 'overli', 'overlook', 'overpow', 'overrid', 'overrip', 'overton', 'overwhelm', 'overwrought', 'oxid', 'oyster', 'pack', 'packag', 'pair', 'pal', 'palat', 'palateâ', 'pale', 'pan', 'panach', 'papagiannako', 'papaya', 'part', 'parti', 'particularli', 'partner', 'passion', 'pasta', 'pastri', 'path', 'patio', 'patra', 'pavlidi', 'peach', 'pear', 'peel', 'peloponnes', 'peloppones', 'pencil', 'penetr', 'pep', 'pepper', 'peppercorn', 'pepperi', 'pepperâ', 'peppi', 'percept', 'perfect', 'perfectli', 'perfum', 'perhap', 'perki', 'persist', 'person', 'pert', 'petal', 'pick', 'pie', 'piecrust', 'pin', 'pine', 'pineappl', 'pink', 'pinkish', 'pinot', 'pith', 'pithi', 'pizza', 'place', 'plate', 'plavac', 'plavina', 'play', 'pleas', 'pleasant', 'pleasantli', 'plenti', 'plu', 'plucki', 'plum', 'plummi', 'plush', 'pois', 'polish', 'polo', 'pomegran', 'pop', 'popcorn', 'popular', 'pork', 'port', 'porto', 'post', 'potenti', 'poultri', 'pour', 'powder', 'powderi', 'power', 'pralin', 'preced', 'predominant', 'prefer', 'premier', 'premium', 'prepar', 'present', 'preserv', 'press', 'pretti', 'prevail', 'preval', 'prevent', 'price', 'prime', 'pristin', 'produc', 'profil', 'prolong', 'pronounc', 'properli', 'proud', 'prove', 'provid', 'prune', 'puck', 'pulpi', 'punctuat', 'pure', 'purpl', 'purplish', 'put', 'pyrgo', 'quaf', 'quaff', 'quaffabl', 'quaffer', 'quail', 'qualiti', 'queen', 'quench', 'quiet', 'quinc', 'quit', 'raci', 'rack', 'raisin', 'rapsani', 'rare', 'raspberri', 'rather', 'ravan', 'raw', 're', 'readi', 'real', 'realli', 'rebula', 'recal', 'recommend', 'red', 'redol', 'refin', 'reflect', 'refresh', 'refreshingli', 'region', 'regular', 'reisl', 'rel', 'releas', 'remain', 'remark', 'remind', 'reminisc', 'render', 'repres', 'reserv', 'resin', 'resini', 'restina', 'restrain', 'retain', 'retsina', 'reveal', 'reverber', 'reward', 'rhubarb', 'ri', 'rib', 'ribolla', 'rich', 'richer', 'richli', 'riesl', 'riesling', 'right', 'rind', 'rip', 'ripe', 'ripest', 'rippl', 'rise', 'ritif', 'river', 'roast', 'robola', 'robust', 'rock', 'rocki', 'roditi', 'roditis', 'roll', 'room', 'root', 'rose', 'rosemari', 'rosã', 'rough', 'round', 'rounder', 'rslevelu', 'rub', 'rubi', 'ruby', 'ruddi', 'rustic', 'ruå¾a', 'rye', 'saddl', 'sage', 'sagrantino', 'said', 'saint', 'salad', 'salin', 'salmon', 'salt', 'salti', 'samo', 'sandalwood', 'santorini', 'sardin', 'satifisfi', 'sauc', 'sausag', 'sauska', 'sautã', 'sauvignon', 'sauvignonass', 'savatiano', 'savor', 'savori', 'sb', 'scent', 'sea', 'seafood', 'seal', 'seamlessli', 'sear', 'season', 'sec', 'seckl', 'seduct', 'seem', 'seen', 'select', 'semi', 'semisweet', 'sensuou', 'seriou', 'serv', 'set', 'seven', 'sever', 'sexi', 'shade', 'sharp', 'shea', 'shellfish', 'shine', 'short', 'shot', 'show', 'showcas', 'shower', 'showi', 'shuck', 'side', 'sigala', 'signific', 'silken', 'silki', 'similarli', 'simpl', 'simpli', 'sinewi', 'singl', 'single', 'sip', 'sipper', 'sisan', 'site', 'sivi', 'skin', 'skoura', 'slate', 'slice', 'slight', 'slightli', 'slope', 'slovenia', 'slovenian', 'slowli', 'smack', 'smackingli', 'smell', 'smith', 'smoke', 'smoki', 'smooth', 'snap', 'snappi', 'so', 'soak', 'soda', 'soft', 'soften', 'softer', 'softli', 'soil', 'solid', 'solo', 'solu', 'some', 'sometim', 'somewhat', 'sophist', 'sorbet', 'soul', 'soup', 'sour', 'southern', 'soy', 'span', 'sparkl', 'sparkler', 'speak', 'spearmint', 'spic', 'spice', 'spicebox', 'spicesâ', 'spiceâ', 'spici', 'spiciest', 'spiki', 'spin', 'spirit', 'splash', 'splitsa', 'spray', 'spri', 'sprinkl', 'spunk', 'spunki', 'squeez', 'squid', 'stage', 'stand', 'star', 'stargaz', 'start', 'state', 'stavroto', 'stay', 'steak', 'steeli', 'stew', 'still', 'stinki', 'stone', 'stonefruit', 'stoni', 'straightforward', 'straw', 'strawberri', 'strength', 'stretch', 'strike', 'strikingli', 'strong', 'strongest', 'struct', 'structur', 'studi', 'stuff', 'stunner', 'sturdi', 'styl', 'style', 'stylish', 'subdu', 'subsid', 'substant', 'substanti', 'subtl', 'subtler', 'success', 'sugar', 'suggest', 'suit', 'suitabl', 'sultri', 'summer', 'sun', 'sunni', 'superrip', 'suppl', 'support', 'sure', 'surpris', 'surprisingli', 'sushi', 'swash', 'swath', 'sweati', 'sweet', 'sweeter', 'sweetish', 'sweetli', 'sweetpea', 'syrah', 'szamorodni', 'szechuan', 'szepsi', 'sã', 'tabl', 'tad', 'take', 'talc', 'talent', 'tame', 'tangerin', 'tangi', 'tanni', 'tannic', 'tannin', 'tapenad', 'tart', 'tast', 'tasti', 'tatin', 'tea', 'telltal', 'temper', 'tend', 'teran', 'terribl', 'terroir', 'ters', 'testament', 'textur', 'th', 'thai', 'thank', 'that', 'the', 'thema', 'there', 'these', 'thi', 'thick', 'thin', 'thing', 'think', 'thoma', 'thoroughli', 'though', 'thoughâ', 'thrace', 'thread', 'three', 'throughout', 'throw', 'thrust', 'thyme', 'ti', 'tidi', 'tie', 'tight', 'time', 'tin', 'ting', 'tingl', 'to', 'toast', 'toasti', 'tobacco', 'today', 'toffe', 'togeth', 'tokaj', 'tokaji', 'tomato', 'ton', 'tone', 'tongu', 'tonic', 'top', 'touch', 'tough', 'toward', 'town', 'trace', 'track', 'tradit', 'traditional', 'trail', 'train', 'tramin', 'transfer', 'transit', 'treat', 'treatment', 'tri', 'tribut', 'trop', 'tropic', 'true', 'truli', 'tsantali', 'turkey', 'turkish', 'two', 'typic', 'typifi', 'un', 'unabashedli', 'unbeat', 'unbeliev', 'uncompl', 'unctuou', 'undeni', 'underbelli', 'undercurr', 'underlay', 'underton', 'undoubtedli', 'undul', 'unfold', 'union', 'uniqu', 'unleash', 'unlik', 'unravel', 'unusu', 'upfront', 'upland', 'upright', 'upsid', 'upside', 'use', 'usual', 'util', 'valencia', 'vanilla', 'vari', 'varieti', 'varietiesâ', 'vat', 'vclveti', 'veget', 'vegetarian', 'vein', 'veltlin', 'velveti', 'veri', 'vermentino', 'versatil', 'version', 'verv', 'vibe', 'vibranc', 'vibrant', 'vidiano', 'villag', 'vineyard', 'vineyardsâ', 'viognier', 'viognierâ', 'violet', 'viscer', 'viscou', 'vivaci', 'voluptu', 'waft', 'want', 'warm', 'wash', 'watermelon', 'wave', 'wax', 'waxi', 'way', 'weath', 'week', 'weekday', 'weekend', 'weight', 'well', 'wellâ', 'welschriesl', 'wet', 'which', 'whiff', 'while', 'whisper', 'white', 'whole', 'whop', 'whose', 'wide', 'wild', 'wildflow', 'wind', 'wine', 'winemak', 'wineâ', 'with', 'without', 'wonder', 'wood', 'wooden', 'word', 'world', 'worthi', 'would', 'wound', 'woven', 'wrangl', 'wrap', 'xinomavro', 'year', 'yeast', 'yellow', 'yet', 'young', 'yuzu', 'zest', 'zesti', 'zin', 'zing', 'zingi', 'zip', 'zippi', 'zlahtina', 'zweigelt']\n",
      "Vseh feature-ov je 1770\n"
     ]
    },
    {
     "name": "stderr",
     "output_type": "stream",
     "text": [
      "/opt/homebrew/Caskroom/miniforge/base/envs/6_vaja/lib/python3.10/site-packages/sklearn/utils/deprecation.py:87: FutureWarning: Function get_feature_names is deprecated; get_feature_names is deprecated in 1.0 and will be removed in 1.2. Please use get_feature_names_out instead.\n",
      "  warnings.warn(msg, category=FutureWarning)\n"
     ]
    }
   ],
   "source": [
    "from sklearn.feature_extraction.text import TfidfVectorizer\n",
    "\n",
    "vectorizer = TfidfVectorizer(ngram_range=(1, 1),\n",
    "                             lowercase=True)\n",
    "\n",
    "input_data = vectorizer.fit_transform(df['processed'])\n",
    "\n",
    "print(vectorizer.get_feature_names())\n",
    "print(f'Vseh feature-ov je {len(vectorizer.get_feature_names())}')"
   ],
   "metadata": {
    "collapsed": false,
    "pycharm": {
     "name": "#%%\n"
    }
   }
  },
  {
   "cell_type": "markdown",
   "source": [
    "6. Nad tako pripravljenimi podatki uporabite klasifikacijski algoritem Support Vector Classification, s katerim napoveste v katero državo sodi vino glede na besedilo podane ocene. Učna množica naj zajema 75% vseh podatkov, naključno stanje pa naj bo 123. Izpišite točnost klasifikacije."
   ],
   "metadata": {
    "collapsed": false
   }
  },
  {
   "cell_type": "code",
   "execution_count": 355,
   "outputs": [
    {
     "data": {
      "text/plain": "0.7927461139896373"
     },
     "execution_count": 355,
     "metadata": {},
     "output_type": "execute_result"
    }
   ],
   "source": [
    "from sklearn.svm import SVC\n",
    "from sklearn.model_selection import train_test_split\n",
    "from sklearn.metrics import accuracy_score\n",
    "\n",
    "\n",
    "\n",
    "X_train, X_test, y_train, y_test = train_test_split(input_data, df['country'], test_size=0.25, random_state=123)\n",
    "model = SVC()\n",
    "model.fit(X_train, y_train)\n",
    "predictions = model.predict(X_test)\n",
    "accuracy_score(y_test, predictions)"
   ],
   "metadata": {
    "collapsed": false,
    "pycharm": {
     "name": "#%%\n"
    }
   }
  },
  {
   "cell_type": "markdown",
   "source": [
    "7. Enak postopek klasifikacije ponovite še nad bigrami in trigrami. Primerjajte točnosti klasifikacije."
   ],
   "metadata": {
    "collapsed": false,
    "pycharm": {
     "name": "#%% md\n"
    }
   }
  },
  {
   "cell_type": "code",
   "execution_count": 356,
   "outputs": [
    {
     "data": {
      "text/plain": "0.7150259067357513"
     },
     "execution_count": 356,
     "metadata": {},
     "output_type": "execute_result"
    }
   ],
   "source": [
    "vectorizer1 = TfidfVectorizer(ngram_range=(1,2),\n",
    "                              preprocessor=process_text)\n",
    "\n",
    "input_data1 = vectorizer1.fit_transform(df['processed'])\n",
    "\n",
    "X_train, X_test, y_train, y_test = train_test_split(input_data1, df['country'], test_size=0.25, random_state=123)\n",
    "\n",
    "model.fit(X_train, y_train)\n",
    "predictions = model.predict(X_test)\n",
    "accuracy_score(y_test, predictions)"
   ],
   "metadata": {
    "collapsed": false,
    "pycharm": {
     "name": "#%%\n"
    }
   }
  },
  {
   "cell_type": "code",
   "execution_count": 357,
   "outputs": [
    {
     "data": {
      "text/plain": "0.6787564766839378"
     },
     "execution_count": 357,
     "metadata": {},
     "output_type": "execute_result"
    }
   ],
   "source": [
    "vectorizer2 = TfidfVectorizer(ngram_range=(1,3),\n",
    "                              preprocessor=process_text)\n",
    "\n",
    "input_data2 = vectorizer2.fit_transform(df['processed'])\n",
    "\n",
    "X_train, X_test, y_train, y_test = train_test_split(input_data2, df['country'], test_size=0.25, random_state=123)\n",
    "\n",
    "model.fit(X_train, y_train)\n",
    "predictions = model.predict(X_test)\n",
    "accuracy_score(y_test, predictions)"
   ],
   "metadata": {
    "collapsed": false,
    "pycharm": {
     "name": "#%%\n"
    }
   }
  },
  {
   "cell_type": "markdown",
   "source": [
    "8. Za konec vzemite še neprečiščeno besedilo ocen iz stolpca description. Predprocesirajte ga z uporabo TfidfVectorizer in ga razdelite na unigrame. Nad njim izvedite klasifikacijo z enakim algoritmom, enako delitvijo učnih/testih podatkov, in enakim izhodnim razredom kot v prejšnjih točkah. Točnost klasifikacije primerjajte s tisto iz 6. točke."
   ],
   "metadata": {
    "collapsed": false
   }
  },
  {
   "cell_type": "code",
   "execution_count": 358,
   "outputs": [
    {
     "data": {
      "text/plain": "0.7927461139896373"
     },
     "execution_count": 358,
     "metadata": {},
     "output_type": "execute_result"
    }
   ],
   "source": [
    "vectorizer3 = TfidfVectorizer(ngram_range=(1,1),\n",
    "                              preprocessor=process_text)\n",
    "\n",
    "input_data3 = vectorizer3.fit_transform(df['description'])\n",
    "\n",
    "X_train, X_test, y_train, y_test = train_test_split(input_data3, df['country'], test_size=0.25, random_state=123)\n",
    "\n",
    "model.fit(X_train, y_train)\n",
    "predictions = model.predict(X_test)\n",
    "accuracy_score(y_test, predictions)"
   ],
   "metadata": {
    "collapsed": false,
    "pycharm": {
     "name": "#%%\n"
    }
   }
  }
 ],
 "metadata": {
  "kernelspec": {
   "display_name": "Python 3",
   "language": "python",
   "name": "python3"
  },
  "language_info": {
   "codemirror_mode": {
    "name": "ipython",
    "version": 2
   },
   "file_extension": ".py",
   "mimetype": "text/x-python",
   "name": "python",
   "nbconvert_exporter": "python",
   "pygments_lexer": "ipython2",
   "version": "2.7.6"
  }
 },
 "nbformat": 4,
 "nbformat_minor": 0
}